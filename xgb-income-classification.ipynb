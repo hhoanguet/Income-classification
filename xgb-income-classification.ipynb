{
 "cells": [
  {
   "cell_type": "code",
   "execution_count": 1,
   "id": "646da253",
   "metadata": {
    "_cell_guid": "b1076dfc-b9ad-4769-8c92-a6c4dae69d19",
    "_uuid": "8f2839f25d086af736a60e9eeb907d3b93b6e0e5",
    "execution": {
     "iopub.execute_input": "2021-12-06T12:30:32.690806Z",
     "iopub.status.busy": "2021-12-06T12:30:32.689016Z",
     "iopub.status.idle": "2021-12-06T12:30:33.488188Z",
     "shell.execute_reply": "2021-12-06T12:30:33.488799Z",
     "shell.execute_reply.started": "2021-12-06T12:28:44.929942Z"
    },
    "papermill": {
     "duration": 0.873539,
     "end_time": "2021-12-06T12:30:33.489127",
     "exception": false,
     "start_time": "2021-12-06T12:30:32.615588",
     "status": "completed"
    },
    "tags": []
   },
   "outputs": [
    {
     "name": "stdout",
     "output_type": "stream",
     "text": [
      "/kaggle/input/ml-hands-on-python-kaggle-01/sample_submission.csv\n",
      "/kaggle/input/ml-hands-on-python-kaggle-01/train.csv\n",
      "/kaggle/input/ml-hands-on-python-kaggle-01/test.csv\n"
     ]
    }
   ],
   "source": [
    "import numpy as np # linear algebra\n",
    "import pandas as pd # data processing, CSV file I/O (e.g. pd.read_csv)\n",
    "\n",
    "# Visualizaton\n",
    "import seaborn as sns\n",
    "import matplotlib.pyplot as plt\n",
    "%matplotlib inline\n",
    "import random\n",
    "import os\n",
    "import gc\n",
    "for dirname, _, filenames in os.walk('/kaggle/input'):\n",
    "    for filename in filenames:\n",
    "        print(os.path.join(dirname, filename))"
   ]
  },
  {
   "cell_type": "markdown",
   "id": "46d88f44",
   "metadata": {
    "papermill": {
     "duration": 0.06752,
     "end_time": "2021-12-06T12:30:33.625500",
     "exception": false,
     "start_time": "2021-12-06T12:30:33.557980",
     "status": "completed"
    },
    "tags": []
   },
   "source": [
    "# Seed everything"
   ]
  },
  {
   "cell_type": "code",
   "execution_count": 2,
   "id": "8e94024e",
   "metadata": {
    "execution": {
     "iopub.execute_input": "2021-12-06T12:30:33.860120Z",
     "iopub.status.busy": "2021-12-06T12:30:33.859089Z",
     "iopub.status.idle": "2021-12-06T12:30:33.861598Z",
     "shell.execute_reply": "2021-12-06T12:30:33.862214Z",
     "shell.execute_reply.started": "2021-12-06T12:28:45.959439Z"
    },
    "papermill": {
     "duration": 0.078706,
     "end_time": "2021-12-06T12:30:33.862401",
     "exception": false,
     "start_time": "2021-12-06T12:30:33.783695",
     "status": "completed"
    },
    "tags": []
   },
   "outputs": [],
   "source": [
    "def seed_everything(seed):\n",
    "    random.seed(seed)\n",
    "    os.environ['PYTHONHASHSEED'] = str(seed)\n",
    "    np.random.seed(seed)\n",
    "\n",
    "SEED = 42\n",
    "seed_everything(SEED)"
   ]
  },
  {
   "cell_type": "code",
   "execution_count": 3,
   "id": "706ca9cc",
   "metadata": {
    "execution": {
     "iopub.execute_input": "2021-12-06T12:30:34.004993Z",
     "iopub.status.busy": "2021-12-06T12:30:34.003842Z",
     "iopub.status.idle": "2021-12-06T12:30:34.199612Z",
     "shell.execute_reply": "2021-12-06T12:30:34.200245Z",
     "shell.execute_reply.started": "2021-12-06T12:28:45.969081Z"
    },
    "papermill": {
     "duration": 0.269781,
     "end_time": "2021-12-06T12:30:34.200464",
     "exception": false,
     "start_time": "2021-12-06T12:30:33.930683",
     "status": "completed"
    },
    "tags": []
   },
   "outputs": [],
   "source": [
    "train_df = pd.read_csv(\"../input/ml-hands-on-python-kaggle-01/train.csv\", index_col=0)\n",
    "# Remove data leaking rows\n",
    "train_df = train_df[train_df['capital_gain'] != 99999]\n",
    "train_df.reset_index(drop=True, inplace=True)\n",
    "test_df = pd.read_csv(\"../input/ml-hands-on-python-kaggle-01/test.csv\", index_col=0)\n",
    "test_df.reset_index(drop=True, inplace=True)\n",
    "sample_sub = pd.read_csv(\"../input/ml-hands-on-python-kaggle-01/sample_submission.csv\")\n",
    "combine = [train_df, test_df]"
   ]
  },
  {
   "cell_type": "code",
   "execution_count": 4,
   "id": "cbf013d4",
   "metadata": {
    "execution": {
     "iopub.execute_input": "2021-12-06T12:30:34.342189Z",
     "iopub.status.busy": "2021-12-06T12:30:34.341137Z",
     "iopub.status.idle": "2021-12-06T12:30:34.374460Z",
     "shell.execute_reply": "2021-12-06T12:30:34.373880Z",
     "shell.execute_reply.started": "2021-12-06T12:28:46.170989Z"
    },
    "papermill": {
     "duration": 0.104637,
     "end_time": "2021-12-06T12:30:34.374607",
     "exception": false,
     "start_time": "2021-12-06T12:30:34.269970",
     "status": "completed"
    },
    "tags": []
   },
   "outputs": [
    {
     "data": {
      "text/html": [
       "<div>\n",
       "<style scoped>\n",
       "    .dataframe tbody tr th:only-of-type {\n",
       "        vertical-align: middle;\n",
       "    }\n",
       "\n",
       "    .dataframe tbody tr th {\n",
       "        vertical-align: top;\n",
       "    }\n",
       "\n",
       "    .dataframe thead th {\n",
       "        text-align: right;\n",
       "    }\n",
       "</style>\n",
       "<table border=\"1\" class=\"dataframe\">\n",
       "  <thead>\n",
       "    <tr style=\"text-align: right;\">\n",
       "      <th></th>\n",
       "      <th>age</th>\n",
       "      <th>work_type</th>\n",
       "      <th>final_weight</th>\n",
       "      <th>education</th>\n",
       "      <th>total_education_yrs</th>\n",
       "      <th>marital_state</th>\n",
       "      <th>job</th>\n",
       "      <th>status</th>\n",
       "      <th>ethnicity</th>\n",
       "      <th>sex</th>\n",
       "      <th>capital_gain</th>\n",
       "      <th>capital_loss</th>\n",
       "      <th>hrs_per_week</th>\n",
       "      <th>nationality</th>\n",
       "      <th>target_income</th>\n",
       "    </tr>\n",
       "  </thead>\n",
       "  <tbody>\n",
       "    <tr>\n",
       "      <th>0</th>\n",
       "      <td>45</td>\n",
       "      <td>Private</td>\n",
       "      <td>175925</td>\n",
       "      <td>HS-grad</td>\n",
       "      <td>9</td>\n",
       "      <td>Married-civ-spouse</td>\n",
       "      <td>Craft-repair</td>\n",
       "      <td>Husband</td>\n",
       "      <td>White</td>\n",
       "      <td>M</td>\n",
       "      <td>0</td>\n",
       "      <td>0</td>\n",
       "      <td>40</td>\n",
       "      <td>US</td>\n",
       "      <td>0</td>\n",
       "    </tr>\n",
       "    <tr>\n",
       "      <th>1</th>\n",
       "      <td>23</td>\n",
       "      <td>Private</td>\n",
       "      <td>113601</td>\n",
       "      <td>Some-college</td>\n",
       "      <td>10</td>\n",
       "      <td>Never-married</td>\n",
       "      <td>Handlers-cleaners</td>\n",
       "      <td>Own-child</td>\n",
       "      <td>White</td>\n",
       "      <td>M</td>\n",
       "      <td>0</td>\n",
       "      <td>0</td>\n",
       "      <td>30</td>\n",
       "      <td>US</td>\n",
       "      <td>0</td>\n",
       "    </tr>\n",
       "    <tr>\n",
       "      <th>2</th>\n",
       "      <td>22</td>\n",
       "      <td>Private</td>\n",
       "      <td>112137</td>\n",
       "      <td>Some-college</td>\n",
       "      <td>10</td>\n",
       "      <td>Never-married</td>\n",
       "      <td>Prof-specialty</td>\n",
       "      <td>Other-relative</td>\n",
       "      <td>Asian-Pac-Islander</td>\n",
       "      <td>F</td>\n",
       "      <td>0</td>\n",
       "      <td>0</td>\n",
       "      <td>20</td>\n",
       "      <td>South</td>\n",
       "      <td>0</td>\n",
       "    </tr>\n",
       "    <tr>\n",
       "      <th>3</th>\n",
       "      <td>27</td>\n",
       "      <td>Private</td>\n",
       "      <td>153078</td>\n",
       "      <td>Prof-school</td>\n",
       "      <td>15</td>\n",
       "      <td>Never-married</td>\n",
       "      <td>Prof-specialty</td>\n",
       "      <td>Own-child</td>\n",
       "      <td>Asian-Pac-Islander</td>\n",
       "      <td>M</td>\n",
       "      <td>0</td>\n",
       "      <td>0</td>\n",
       "      <td>40</td>\n",
       "      <td>US</td>\n",
       "      <td>0</td>\n",
       "    </tr>\n",
       "    <tr>\n",
       "      <th>4</th>\n",
       "      <td>18</td>\n",
       "      <td>Private</td>\n",
       "      <td>375515</td>\n",
       "      <td>11th</td>\n",
       "      <td>7</td>\n",
       "      <td>Never-married</td>\n",
       "      <td>Sales</td>\n",
       "      <td>Own-child</td>\n",
       "      <td>White</td>\n",
       "      <td>F</td>\n",
       "      <td>0</td>\n",
       "      <td>0</td>\n",
       "      <td>20</td>\n",
       "      <td>US</td>\n",
       "      <td>0</td>\n",
       "    </tr>\n",
       "    <tr>\n",
       "      <th>...</th>\n",
       "      <td>...</td>\n",
       "      <td>...</td>\n",
       "      <td>...</td>\n",
       "      <td>...</td>\n",
       "      <td>...</td>\n",
       "      <td>...</td>\n",
       "      <td>...</td>\n",
       "      <td>...</td>\n",
       "      <td>...</td>\n",
       "      <td>...</td>\n",
       "      <td>...</td>\n",
       "      <td>...</td>\n",
       "      <td>...</td>\n",
       "      <td>...</td>\n",
       "      <td>...</td>\n",
       "    </tr>\n",
       "    <tr>\n",
       "      <th>24879</th>\n",
       "      <td>47</td>\n",
       "      <td>State-gov</td>\n",
       "      <td>188386</td>\n",
       "      <td>Bachelors</td>\n",
       "      <td>13</td>\n",
       "      <td>Married-civ-spouse</td>\n",
       "      <td>Prof-specialty</td>\n",
       "      <td>Husband</td>\n",
       "      <td>White</td>\n",
       "      <td>M</td>\n",
       "      <td>0</td>\n",
       "      <td>0</td>\n",
       "      <td>45</td>\n",
       "      <td>US</td>\n",
       "      <td>1</td>\n",
       "    </tr>\n",
       "    <tr>\n",
       "      <th>24880</th>\n",
       "      <td>23</td>\n",
       "      <td>Private</td>\n",
       "      <td>71864</td>\n",
       "      <td>Some-college</td>\n",
       "      <td>10</td>\n",
       "      <td>Never-married</td>\n",
       "      <td>Exec-managerial</td>\n",
       "      <td>Not-in-family</td>\n",
       "      <td>White</td>\n",
       "      <td>F</td>\n",
       "      <td>0</td>\n",
       "      <td>0</td>\n",
       "      <td>35</td>\n",
       "      <td>US</td>\n",
       "      <td>0</td>\n",
       "    </tr>\n",
       "    <tr>\n",
       "      <th>24881</th>\n",
       "      <td>24</td>\n",
       "      <td>Private</td>\n",
       "      <td>395297</td>\n",
       "      <td>Some-college</td>\n",
       "      <td>10</td>\n",
       "      <td>Never-married</td>\n",
       "      <td>Sales</td>\n",
       "      <td>Own-child</td>\n",
       "      <td>White</td>\n",
       "      <td>F</td>\n",
       "      <td>0</td>\n",
       "      <td>0</td>\n",
       "      <td>35</td>\n",
       "      <td>US</td>\n",
       "      <td>0</td>\n",
       "    </tr>\n",
       "    <tr>\n",
       "      <th>24882</th>\n",
       "      <td>44</td>\n",
       "      <td>Self-emp-not-inc</td>\n",
       "      <td>138975</td>\n",
       "      <td>HS-grad</td>\n",
       "      <td>9</td>\n",
       "      <td>Married-civ-spouse</td>\n",
       "      <td>Craft-repair</td>\n",
       "      <td>Husband</td>\n",
       "      <td>White</td>\n",
       "      <td>M</td>\n",
       "      <td>0</td>\n",
       "      <td>0</td>\n",
       "      <td>55</td>\n",
       "      <td>US</td>\n",
       "      <td>0</td>\n",
       "    </tr>\n",
       "    <tr>\n",
       "      <th>24883</th>\n",
       "      <td>42</td>\n",
       "      <td>?</td>\n",
       "      <td>167678</td>\n",
       "      <td>11th</td>\n",
       "      <td>7</td>\n",
       "      <td>Married-civ-spouse</td>\n",
       "      <td>?</td>\n",
       "      <td>Husband</td>\n",
       "      <td>White</td>\n",
       "      <td>M</td>\n",
       "      <td>0</td>\n",
       "      <td>0</td>\n",
       "      <td>22</td>\n",
       "      <td>Ecuador</td>\n",
       "      <td>0</td>\n",
       "    </tr>\n",
       "  </tbody>\n",
       "</table>\n",
       "<p>24884 rows × 15 columns</p>\n",
       "</div>"
      ],
      "text/plain": [
       "       age         work_type  final_weight     education  total_education_yrs  \\\n",
       "0       45           Private        175925       HS-grad                    9   \n",
       "1       23           Private        113601  Some-college                   10   \n",
       "2       22           Private        112137  Some-college                   10   \n",
       "3       27           Private        153078   Prof-school                   15   \n",
       "4       18           Private        375515          11th                    7   \n",
       "...    ...               ...           ...           ...                  ...   \n",
       "24879   47         State-gov        188386     Bachelors                   13   \n",
       "24880   23           Private         71864  Some-college                   10   \n",
       "24881   24           Private        395297  Some-college                   10   \n",
       "24882   44  Self-emp-not-inc        138975       HS-grad                    9   \n",
       "24883   42                 ?        167678          11th                    7   \n",
       "\n",
       "            marital_state                job          status  \\\n",
       "0      Married-civ-spouse       Craft-repair         Husband   \n",
       "1           Never-married  Handlers-cleaners       Own-child   \n",
       "2           Never-married     Prof-specialty  Other-relative   \n",
       "3           Never-married     Prof-specialty       Own-child   \n",
       "4           Never-married              Sales       Own-child   \n",
       "...                   ...                ...             ...   \n",
       "24879  Married-civ-spouse     Prof-specialty         Husband   \n",
       "24880       Never-married    Exec-managerial   Not-in-family   \n",
       "24881       Never-married              Sales       Own-child   \n",
       "24882  Married-civ-spouse       Craft-repair         Husband   \n",
       "24883  Married-civ-spouse                  ?         Husband   \n",
       "\n",
       "                ethnicity sex  capital_gain  capital_loss  hrs_per_week  \\\n",
       "0                   White   M             0             0            40   \n",
       "1                   White   M             0             0            30   \n",
       "2      Asian-Pac-Islander   F             0             0            20   \n",
       "3      Asian-Pac-Islander   M             0             0            40   \n",
       "4                   White   F             0             0            20   \n",
       "...                   ...  ..           ...           ...           ...   \n",
       "24879               White   M             0             0            45   \n",
       "24880               White   F             0             0            35   \n",
       "24881               White   F             0             0            35   \n",
       "24882               White   M             0             0            55   \n",
       "24883               White   M             0             0            22   \n",
       "\n",
       "      nationality  target_income  \n",
       "0              US              0  \n",
       "1              US              0  \n",
       "2           South              0  \n",
       "3              US              0  \n",
       "4              US              0  \n",
       "...           ...            ...  \n",
       "24879          US              1  \n",
       "24880          US              0  \n",
       "24881          US              0  \n",
       "24882          US              0  \n",
       "24883     Ecuador              0  \n",
       "\n",
       "[24884 rows x 15 columns]"
      ]
     },
     "execution_count": 4,
     "metadata": {},
     "output_type": "execute_result"
    }
   ],
   "source": [
    "train_df"
   ]
  },
  {
   "cell_type": "markdown",
   "id": "5260bc3e",
   "metadata": {
    "papermill": {
     "duration": 0.067131,
     "end_time": "2021-12-06T12:30:34.510127",
     "exception": false,
     "start_time": "2021-12-06T12:30:34.442996",
     "status": "completed"
    },
    "tags": []
   },
   "source": [
    "## Encode \"?\" as NaNs"
   ]
  },
  {
   "cell_type": "code",
   "execution_count": 5,
   "id": "8e9d71d6",
   "metadata": {
    "execution": {
     "iopub.execute_input": "2021-12-06T12:30:34.651641Z",
     "iopub.status.busy": "2021-12-06T12:30:34.650950Z",
     "iopub.status.idle": "2021-12-06T12:30:34.703572Z",
     "shell.execute_reply": "2021-12-06T12:30:34.704166Z",
     "shell.execute_reply.started": "2021-12-06T12:28:46.214133Z"
    },
    "papermill": {
     "duration": 0.125781,
     "end_time": "2021-12-06T12:30:34.704388",
     "exception": false,
     "start_time": "2021-12-06T12:30:34.578607",
     "status": "completed"
    },
    "tags": []
   },
   "outputs": [],
   "source": [
    "train_df[train_df == '?'] = np.nan\n",
    "test_df[test_df == '?'] = np.nan"
   ]
  },
  {
   "cell_type": "code",
   "execution_count": 6,
   "id": "3d0b5ba6",
   "metadata": {
    "execution": {
     "iopub.execute_input": "2021-12-06T12:30:34.846237Z",
     "iopub.status.busy": "2021-12-06T12:30:34.845299Z",
     "iopub.status.idle": "2021-12-06T12:30:34.896824Z",
     "shell.execute_reply": "2021-12-06T12:30:34.897473Z",
     "shell.execute_reply.started": "2021-12-06T12:28:46.276370Z"
    },
    "papermill": {
     "duration": 0.124218,
     "end_time": "2021-12-06T12:30:34.897730",
     "exception": false,
     "start_time": "2021-12-06T12:30:34.773512",
     "status": "completed"
    },
    "tags": []
   },
   "outputs": [
    {
     "name": "stdout",
     "output_type": "stream",
     "text": [
      "<class 'pandas.core.frame.DataFrame'>\n",
      "RangeIndex: 24884 entries, 0 to 24883\n",
      "Data columns (total 15 columns):\n",
      " #   Column               Non-Null Count  Dtype \n",
      "---  ------               --------------  ----- \n",
      " 0   age                  24884 non-null  int64 \n",
      " 1   work_type            23507 non-null  object\n",
      " 2   final_weight         24884 non-null  int64 \n",
      " 3   education            24884 non-null  object\n",
      " 4   total_education_yrs  24884 non-null  int64 \n",
      " 5   marital_state        24884 non-null  object\n",
      " 6   job                  23502 non-null  object\n",
      " 7   status               24884 non-null  object\n",
      " 8   ethnicity            24884 non-null  object\n",
      " 9   sex                  24884 non-null  object\n",
      " 10  capital_gain         24884 non-null  int64 \n",
      " 11  capital_loss         24884 non-null  int64 \n",
      " 12  hrs_per_week         24884 non-null  int64 \n",
      " 13  nationality          24448 non-null  object\n",
      " 14  target_income        24884 non-null  int64 \n",
      "dtypes: int64(7), object(8)\n",
      "memory usage: 2.8+ MB\n",
      "----------------------------------------\n",
      "<class 'pandas.core.frame.DataFrame'>\n",
      "RangeIndex: 7561 entries, 0 to 7560\n",
      "Data columns (total 14 columns):\n",
      " #   Column               Non-Null Count  Dtype \n",
      "---  ------               --------------  ----- \n",
      " 0   age                  7561 non-null   int64 \n",
      " 1   work_type            7104 non-null   object\n",
      " 2   final_weight         7561 non-null   int64 \n",
      " 3   education            7561 non-null   object\n",
      " 4   total_education_yrs  7561 non-null   int64 \n",
      " 5   marital_state        7561 non-null   object\n",
      " 6   job                  7102 non-null   object\n",
      " 7   status               7561 non-null   object\n",
      " 8   ethnicity            7561 non-null   object\n",
      " 9   sex                  7561 non-null   object\n",
      " 10  capital_gain         7561 non-null   int64 \n",
      " 11  capital_loss         7561 non-null   int64 \n",
      " 12  hrs_per_week         7561 non-null   int64 \n",
      " 13  nationality          7421 non-null   object\n",
      "dtypes: int64(6), object(8)\n",
      "memory usage: 827.1+ KB\n"
     ]
    }
   ],
   "source": [
    "train_df.info()\n",
    "print('-'*40)\n",
    "test_df.info()"
   ]
  },
  {
   "cell_type": "markdown",
   "id": "2e6a4dca",
   "metadata": {
    "papermill": {
     "duration": 0.068863,
     "end_time": "2021-12-06T12:30:35.038155",
     "exception": false,
     "start_time": "2021-12-06T12:30:34.969292",
     "status": "completed"
    },
    "tags": []
   },
   "source": [
    "**Columns work_type, job, natonality are categorical and contains NaN values both in train and test data**"
   ]
  },
  {
   "cell_type": "code",
   "execution_count": 7,
   "id": "e865b852",
   "metadata": {
    "execution": {
     "iopub.execute_input": "2021-12-06T12:30:35.181331Z",
     "iopub.status.busy": "2021-12-06T12:30:35.180678Z",
     "iopub.status.idle": "2021-12-06T12:30:35.217532Z",
     "shell.execute_reply": "2021-12-06T12:30:35.218069Z",
     "shell.execute_reply.started": "2021-12-06T12:28:46.343001Z"
    },
    "papermill": {
     "duration": 0.11152,
     "end_time": "2021-12-06T12:30:35.218240",
     "exception": false,
     "start_time": "2021-12-06T12:30:35.106720",
     "status": "completed"
    },
    "tags": []
   },
   "outputs": [
    {
     "name": "stdout",
     "output_type": "stream",
     "text": [
      "Train columns with null values:\n",
      " age                       0\n",
      "work_type              1377\n",
      "final_weight              0\n",
      "education                 0\n",
      "total_education_yrs       0\n",
      "marital_state             0\n",
      "job                    1382\n",
      "status                    0\n",
      "ethnicity                 0\n",
      "sex                       0\n",
      "capital_gain              0\n",
      "capital_loss              0\n",
      "hrs_per_week              0\n",
      "nationality             436\n",
      "target_income             0\n",
      "dtype: int64\n",
      "----------------------------------------\n",
      "Test/Validation columns with null values:\n",
      " age                      0\n",
      "work_type              457\n",
      "final_weight             0\n",
      "education                0\n",
      "total_education_yrs      0\n",
      "marital_state            0\n",
      "job                    459\n",
      "status                   0\n",
      "ethnicity                0\n",
      "sex                      0\n",
      "capital_gain             0\n",
      "capital_loss             0\n",
      "hrs_per_week             0\n",
      "nationality            140\n",
      "dtype: int64\n"
     ]
    }
   ],
   "source": [
    "print('Train columns with null values:\\n', train_df.isnull().sum())\n",
    "print(\"-\"*40)\n",
    "print('Test/Validation columns with null values:\\n', test_df.isnull().sum())"
   ]
  },
  {
   "cell_type": "code",
   "execution_count": 8,
   "id": "752de989",
   "metadata": {
    "execution": {
     "iopub.execute_input": "2021-12-06T12:30:35.359234Z",
     "iopub.status.busy": "2021-12-06T12:30:35.358615Z",
     "iopub.status.idle": "2021-12-06T12:30:35.395306Z",
     "shell.execute_reply": "2021-12-06T12:30:35.394736Z",
     "shell.execute_reply.started": "2021-12-06T12:28:46.391978Z"
    },
    "papermill": {
     "duration": 0.108597,
     "end_time": "2021-12-06T12:30:35.395445",
     "exception": false,
     "start_time": "2021-12-06T12:30:35.286848",
     "status": "completed"
    },
    "tags": []
   },
   "outputs": [
    {
     "data": {
      "text/html": [
       "<div>\n",
       "<style scoped>\n",
       "    .dataframe tbody tr th:only-of-type {\n",
       "        vertical-align: middle;\n",
       "    }\n",
       "\n",
       "    .dataframe tbody tr th {\n",
       "        vertical-align: top;\n",
       "    }\n",
       "\n",
       "    .dataframe thead th {\n",
       "        text-align: right;\n",
       "    }\n",
       "</style>\n",
       "<table border=\"1\" class=\"dataframe\">\n",
       "  <thead>\n",
       "    <tr style=\"text-align: right;\">\n",
       "      <th></th>\n",
       "      <th>age</th>\n",
       "      <th>final_weight</th>\n",
       "      <th>total_education_yrs</th>\n",
       "      <th>capital_gain</th>\n",
       "      <th>capital_loss</th>\n",
       "      <th>hrs_per_week</th>\n",
       "      <th>target_income</th>\n",
       "    </tr>\n",
       "  </thead>\n",
       "  <tbody>\n",
       "    <tr>\n",
       "      <th>count</th>\n",
       "      <td>24884.000000</td>\n",
       "      <td>2.488400e+04</td>\n",
       "      <td>24884.000000</td>\n",
       "      <td>24884.000000</td>\n",
       "      <td>24884.000000</td>\n",
       "      <td>24884.000000</td>\n",
       "      <td>24884.000000</td>\n",
       "    </tr>\n",
       "    <tr>\n",
       "      <th>mean</th>\n",
       "      <td>38.536851</td>\n",
       "      <td>1.900259e+05</td>\n",
       "      <td>10.065624</td>\n",
       "      <td>590.695708</td>\n",
       "      <td>86.454308</td>\n",
       "      <td>40.346890</td>\n",
       "      <td>0.235895</td>\n",
       "    </tr>\n",
       "    <tr>\n",
       "      <th>std</th>\n",
       "      <td>13.645569</td>\n",
       "      <td>1.059891e+05</td>\n",
       "      <td>2.558921</td>\n",
       "      <td>2578.240453</td>\n",
       "      <td>401.424783</td>\n",
       "      <td>12.335342</td>\n",
       "      <td>0.424565</td>\n",
       "    </tr>\n",
       "    <tr>\n",
       "      <th>min</th>\n",
       "      <td>17.000000</td>\n",
       "      <td>1.228500e+04</td>\n",
       "      <td>1.000000</td>\n",
       "      <td>0.000000</td>\n",
       "      <td>0.000000</td>\n",
       "      <td>1.000000</td>\n",
       "      <td>0.000000</td>\n",
       "    </tr>\n",
       "    <tr>\n",
       "      <th>25%</th>\n",
       "      <td>28.000000</td>\n",
       "      <td>1.178110e+05</td>\n",
       "      <td>9.000000</td>\n",
       "      <td>0.000000</td>\n",
       "      <td>0.000000</td>\n",
       "      <td>40.000000</td>\n",
       "      <td>0.000000</td>\n",
       "    </tr>\n",
       "    <tr>\n",
       "      <th>50%</th>\n",
       "      <td>37.000000</td>\n",
       "      <td>1.786465e+05</td>\n",
       "      <td>10.000000</td>\n",
       "      <td>0.000000</td>\n",
       "      <td>0.000000</td>\n",
       "      <td>40.000000</td>\n",
       "      <td>0.000000</td>\n",
       "    </tr>\n",
       "    <tr>\n",
       "      <th>75%</th>\n",
       "      <td>47.000000</td>\n",
       "      <td>2.368082e+05</td>\n",
       "      <td>12.000000</td>\n",
       "      <td>0.000000</td>\n",
       "      <td>0.000000</td>\n",
       "      <td>45.000000</td>\n",
       "      <td>0.000000</td>\n",
       "    </tr>\n",
       "    <tr>\n",
       "      <th>max</th>\n",
       "      <td>90.000000</td>\n",
       "      <td>1.484705e+06</td>\n",
       "      <td>16.000000</td>\n",
       "      <td>41310.000000</td>\n",
       "      <td>4356.000000</td>\n",
       "      <td>99.000000</td>\n",
       "      <td>1.000000</td>\n",
       "    </tr>\n",
       "  </tbody>\n",
       "</table>\n",
       "</div>"
      ],
      "text/plain": [
       "                age  final_weight  total_education_yrs  capital_gain  \\\n",
       "count  24884.000000  2.488400e+04         24884.000000  24884.000000   \n",
       "mean      38.536851  1.900259e+05            10.065624    590.695708   \n",
       "std       13.645569  1.059891e+05             2.558921   2578.240453   \n",
       "min       17.000000  1.228500e+04             1.000000      0.000000   \n",
       "25%       28.000000  1.178110e+05             9.000000      0.000000   \n",
       "50%       37.000000  1.786465e+05            10.000000      0.000000   \n",
       "75%       47.000000  2.368082e+05            12.000000      0.000000   \n",
       "max       90.000000  1.484705e+06            16.000000  41310.000000   \n",
       "\n",
       "       capital_loss  hrs_per_week  target_income  \n",
       "count  24884.000000  24884.000000   24884.000000  \n",
       "mean      86.454308     40.346890       0.235895  \n",
       "std      401.424783     12.335342       0.424565  \n",
       "min        0.000000      1.000000       0.000000  \n",
       "25%        0.000000     40.000000       0.000000  \n",
       "50%        0.000000     40.000000       0.000000  \n",
       "75%        0.000000     45.000000       0.000000  \n",
       "max     4356.000000     99.000000       1.000000  "
      ]
     },
     "execution_count": 8,
     "metadata": {},
     "output_type": "execute_result"
    }
   ],
   "source": [
    "#pd.options.display.float_format = \"{:.2f}\".format\n",
    "train_df.describe()"
   ]
  },
  {
   "cell_type": "markdown",
   "id": "962e6d29",
   "metadata": {
    "papermill": {
     "duration": 0.068849,
     "end_time": "2021-12-06T12:30:35.533845",
     "exception": false,
     "start_time": "2021-12-06T12:30:35.464996",
     "status": "completed"
    },
    "tags": []
   },
   "source": [
    "**What is the distribution of numerical variable**"
   ]
  },
  {
   "cell_type": "code",
   "execution_count": 9,
   "id": "fa4df74a",
   "metadata": {
    "execution": {
     "iopub.execute_input": "2021-12-06T12:30:35.688333Z",
     "iopub.status.busy": "2021-12-06T12:30:35.677396Z",
     "iopub.status.idle": "2021-12-06T12:30:35.749493Z",
     "shell.execute_reply": "2021-12-06T12:30:35.748916Z",
     "shell.execute_reply.started": "2021-12-06T12:28:46.437851Z"
    },
    "papermill": {
     "duration": 0.145559,
     "end_time": "2021-12-06T12:30:35.749641",
     "exception": false,
     "start_time": "2021-12-06T12:30:35.604082",
     "status": "completed"
    },
    "tags": []
   },
   "outputs": [
    {
     "data": {
      "text/html": [
       "<div>\n",
       "<style scoped>\n",
       "    .dataframe tbody tr th:only-of-type {\n",
       "        vertical-align: middle;\n",
       "    }\n",
       "\n",
       "    .dataframe tbody tr th {\n",
       "        vertical-align: top;\n",
       "    }\n",
       "\n",
       "    .dataframe thead th {\n",
       "        text-align: right;\n",
       "    }\n",
       "</style>\n",
       "<table border=\"1\" class=\"dataframe\">\n",
       "  <thead>\n",
       "    <tr style=\"text-align: right;\">\n",
       "      <th></th>\n",
       "      <th>work_type</th>\n",
       "      <th>education</th>\n",
       "      <th>marital_state</th>\n",
       "      <th>job</th>\n",
       "      <th>status</th>\n",
       "      <th>ethnicity</th>\n",
       "      <th>sex</th>\n",
       "      <th>nationality</th>\n",
       "    </tr>\n",
       "  </thead>\n",
       "  <tbody>\n",
       "    <tr>\n",
       "      <th>count</th>\n",
       "      <td>23507</td>\n",
       "      <td>24884</td>\n",
       "      <td>24884</td>\n",
       "      <td>23502</td>\n",
       "      <td>24884</td>\n",
       "      <td>24884</td>\n",
       "      <td>24884</td>\n",
       "      <td>24448</td>\n",
       "    </tr>\n",
       "    <tr>\n",
       "      <th>unique</th>\n",
       "      <td>8</td>\n",
       "      <td>16</td>\n",
       "      <td>7</td>\n",
       "      <td>14</td>\n",
       "      <td>6</td>\n",
       "      <td>5</td>\n",
       "      <td>2</td>\n",
       "      <td>41</td>\n",
       "    </tr>\n",
       "    <tr>\n",
       "      <th>top</th>\n",
       "      <td>Private</td>\n",
       "      <td>HS-grad</td>\n",
       "      <td>Married-civ-spouse</td>\n",
       "      <td>Craft-repair</td>\n",
       "      <td>Husband</td>\n",
       "      <td>White</td>\n",
       "      <td>M</td>\n",
       "      <td>US</td>\n",
       "    </tr>\n",
       "    <tr>\n",
       "      <th>freq</th>\n",
       "      <td>17472</td>\n",
       "      <td>8044</td>\n",
       "      <td>11390</td>\n",
       "      <td>3139</td>\n",
       "      <td>10031</td>\n",
       "      <td>21290</td>\n",
       "      <td>16604</td>\n",
       "      <td>22297</td>\n",
       "    </tr>\n",
       "  </tbody>\n",
       "</table>\n",
       "</div>"
      ],
      "text/plain": [
       "       work_type education       marital_state           job   status  \\\n",
       "count      23507     24884               24884         23502    24884   \n",
       "unique         8        16                   7            14        6   \n",
       "top      Private   HS-grad  Married-civ-spouse  Craft-repair  Husband   \n",
       "freq       17472      8044               11390          3139    10031   \n",
       "\n",
       "       ethnicity    sex nationality  \n",
       "count      24884  24884       24448  \n",
       "unique         5      2          41  \n",
       "top        White      M          US  \n",
       "freq       21290  16604       22297  "
      ]
     },
     "execution_count": 9,
     "metadata": {},
     "output_type": "execute_result"
    }
   ],
   "source": [
    "train_df.describe(include=['O'])"
   ]
  },
  {
   "cell_type": "markdown",
   "id": "6a72b16d",
   "metadata": {
    "papermill": {
     "duration": 0.070619,
     "end_time": "2021-12-06T12:30:35.890071",
     "exception": false,
     "start_time": "2021-12-06T12:30:35.819452",
     "status": "completed"
    },
    "tags": []
   },
   "source": [
    "**What is the distribution of categorical features?**\n",
    "* 75% people do not public their work (17537/23621)\n",
    "* education column is correlated with total_education_years, both include 16 unique values, 8060/25000 people graduate from high school \n",
    "* 66%  is male (16704/25000)\n",
    "* 41 different nationalities, while >90% comes from US(22397/24557)"
   ]
  },
  {
   "cell_type": "markdown",
   "id": "6289cb00",
   "metadata": {
    "papermill": {
     "duration": 0.070413,
     "end_time": "2021-12-06T12:30:36.032110",
     "exception": false,
     "start_time": "2021-12-06T12:30:35.961697",
     "status": "completed"
    },
    "tags": []
   },
   "source": [
    "# Exploratory Data Analysis"
   ]
  },
  {
   "cell_type": "markdown",
   "id": "7b360bc7",
   "metadata": {
    "papermill": {
     "duration": 0.070405,
     "end_time": "2021-12-06T12:30:36.173651",
     "exception": false,
     "start_time": "2021-12-06T12:30:36.103246",
     "status": "completed"
    },
    "tags": []
   },
   "source": [
    "## Numerical features"
   ]
  },
  {
   "cell_type": "code",
   "execution_count": 10,
   "id": "6531653e",
   "metadata": {
    "execution": {
     "iopub.execute_input": "2021-12-06T12:30:36.321415Z",
     "iopub.status.busy": "2021-12-06T12:30:36.320400Z",
     "iopub.status.idle": "2021-12-06T12:30:37.230006Z",
     "shell.execute_reply": "2021-12-06T12:30:37.229232Z",
     "shell.execute_reply.started": "2021-12-06T12:28:46.527234Z"
    },
    "papermill": {
     "duration": 0.986334,
     "end_time": "2021-12-06T12:30:37.230171",
     "exception": false,
     "start_time": "2021-12-06T12:30:36.243837",
     "status": "completed"
    },
    "tags": []
   },
   "outputs": [
    {
     "data": {
      "text/plain": [
       "<matplotlib.legend.Legend at 0x7fdb2d959090>"
      ]
     },
     "execution_count": 10,
     "metadata": {},
     "output_type": "execute_result"
    },
    {
     "data": {
      "image/png": "[encoded data removed]",
      "text/plain": [
       "<Figure size 864x720 with 2 Axes>"
      ]
     },
     "metadata": {
      "needs_background": "light"
     },
     "output_type": "display_data"
    }
   ],
   "source": [
    "plt.figure(figsize = (12,10))\n",
    "plt.title(\"Correlation between numerical features of the dataset\", fontsize = 12, fontweight = 'bold')\n",
    "sns.heatmap(train_df.corr(), cmap = 'coolwarm', annot = True)\n",
    "plt.xticks(fontsize=12, rotation = 90)\n",
    "plt.yticks(fontsize=12, rotation = 0)\n",
    "plt.legend(fontsize=12)"
   ]
  },
  {
   "cell_type": "markdown",
   "id": "9cb83ecc",
   "metadata": {
    "papermill": {
     "duration": 0.072374,
     "end_time": "2021-12-06T12:30:37.376624",
     "exception": false,
     "start_time": "2021-12-06T12:30:37.304250",
     "status": "completed"
    },
    "tags": []
   },
   "source": [
    "### Age"
   ]
  },
  {
   "cell_type": "code",
   "execution_count": 11,
   "id": "5396c872",
   "metadata": {
    "execution": {
     "iopub.execute_input": "2021-12-06T12:30:37.529332Z",
     "iopub.status.busy": "2021-12-06T12:30:37.528638Z",
     "iopub.status.idle": "2021-12-06T12:30:38.027597Z",
     "shell.execute_reply": "2021-12-06T12:30:38.028132Z",
     "shell.execute_reply.started": "2021-12-06T12:28:47.436301Z"
    },
    "papermill": {
     "duration": 0.578858,
     "end_time": "2021-12-06T12:30:38.028334",
     "exception": false,
     "start_time": "2021-12-06T12:30:37.449476",
     "status": "completed"
    },
    "tags": []
   },
   "outputs": [
    {
     "data": {
      "image/png": "[encoded data removed]",
      "text/plain": [
       "<Figure size 432x288 with 1 Axes>"
      ]
     },
     "metadata": {
      "needs_background": "light"
     },
     "output_type": "display_data"
    }
   ],
   "source": [
    "g = sns.kdeplot(data = train_df[train_df['target_income'] == 0]['age'], shade=True)\n",
    "g = sns.kdeplot(data = train_df[train_df['target_income'] == 1]['age'], shade=True)\n",
    "g = g.legend([\"income < 50k\",\"income >=50k\"])"
   ]
  },
  {
   "cell_type": "markdown",
   "id": "9b8fa038",
   "metadata": {
    "papermill": {
     "duration": 0.072809,
     "end_time": "2021-12-06T12:30:38.174665",
     "exception": false,
     "start_time": "2021-12-06T12:30:38.101856",
     "status": "completed"
    },
    "tags": []
   },
   "source": [
    "### Total education yrs"
   ]
  },
  {
   "cell_type": "code",
   "execution_count": 12,
   "id": "37697e7b",
   "metadata": {
    "execution": {
     "iopub.execute_input": "2021-12-06T12:30:38.331417Z",
     "iopub.status.busy": "2021-12-06T12:30:38.325689Z",
     "iopub.status.idle": "2021-12-06T12:30:38.345193Z",
     "shell.execute_reply": "2021-12-06T12:30:38.344597Z",
     "shell.execute_reply.started": "2021-12-06T12:28:47.951353Z"
    },
    "papermill": {
     "duration": 0.096347,
     "end_time": "2021-12-06T12:30:38.345333",
     "exception": false,
     "start_time": "2021-12-06T12:30:38.248986",
     "status": "completed"
    },
    "tags": []
   },
   "outputs": [
    {
     "data": {
      "text/html": [
       "<div>\n",
       "<style scoped>\n",
       "    .dataframe tbody tr th:only-of-type {\n",
       "        vertical-align: middle;\n",
       "    }\n",
       "\n",
       "    .dataframe tbody tr th {\n",
       "        vertical-align: top;\n",
       "    }\n",
       "\n",
       "    .dataframe thead th {\n",
       "        text-align: right;\n",
       "    }\n",
       "</style>\n",
       "<table border=\"1\" class=\"dataframe\">\n",
       "  <thead>\n",
       "    <tr style=\"text-align: right;\">\n",
       "      <th></th>\n",
       "      <th>total_education_yrs</th>\n",
       "      <th>target_income</th>\n",
       "    </tr>\n",
       "  </thead>\n",
       "  <tbody>\n",
       "    <tr>\n",
       "      <th>15</th>\n",
       "      <td>16</td>\n",
       "      <td>0.721477</td>\n",
       "    </tr>\n",
       "    <tr>\n",
       "      <th>14</th>\n",
       "      <td>15</td>\n",
       "      <td>0.698113</td>\n",
       "    </tr>\n",
       "    <tr>\n",
       "      <th>13</th>\n",
       "      <td>14</td>\n",
       "      <td>0.548780</td>\n",
       "    </tr>\n",
       "    <tr>\n",
       "      <th>12</th>\n",
       "      <td>13</td>\n",
       "      <td>0.411882</td>\n",
       "    </tr>\n",
       "    <tr>\n",
       "      <th>10</th>\n",
       "      <td>11</td>\n",
       "      <td>0.257089</td>\n",
       "    </tr>\n",
       "    <tr>\n",
       "      <th>11</th>\n",
       "      <td>12</td>\n",
       "      <td>0.244848</td>\n",
       "    </tr>\n",
       "    <tr>\n",
       "      <th>9</th>\n",
       "      <td>10</td>\n",
       "      <td>0.189156</td>\n",
       "    </tr>\n",
       "    <tr>\n",
       "      <th>8</th>\n",
       "      <td>9</td>\n",
       "      <td>0.157136</td>\n",
       "    </tr>\n",
       "    <tr>\n",
       "      <th>7</th>\n",
       "      <td>8</td>\n",
       "      <td>0.069069</td>\n",
       "    </tr>\n",
       "    <tr>\n",
       "      <th>5</th>\n",
       "      <td>6</td>\n",
       "      <td>0.066025</td>\n",
       "    </tr>\n",
       "    <tr>\n",
       "      <th>3</th>\n",
       "      <td>4</td>\n",
       "      <td>0.053648</td>\n",
       "    </tr>\n",
       "    <tr>\n",
       "      <th>2</th>\n",
       "      <td>3</td>\n",
       "      <td>0.049430</td>\n",
       "    </tr>\n",
       "    <tr>\n",
       "      <th>6</th>\n",
       "      <td>7</td>\n",
       "      <td>0.047072</td>\n",
       "    </tr>\n",
       "    <tr>\n",
       "      <th>4</th>\n",
       "      <td>5</td>\n",
       "      <td>0.046341</td>\n",
       "    </tr>\n",
       "    <tr>\n",
       "      <th>1</th>\n",
       "      <td>2</td>\n",
       "      <td>0.030769</td>\n",
       "    </tr>\n",
       "    <tr>\n",
       "      <th>0</th>\n",
       "      <td>1</td>\n",
       "      <td>0.000000</td>\n",
       "    </tr>\n",
       "  </tbody>\n",
       "</table>\n",
       "</div>"
      ],
      "text/plain": [
       "    total_education_yrs  target_income\n",
       "15                   16       0.721477\n",
       "14                   15       0.698113\n",
       "13                   14       0.548780\n",
       "12                   13       0.411882\n",
       "10                   11       0.257089\n",
       "11                   12       0.244848\n",
       "9                    10       0.189156\n",
       "8                     9       0.157136\n",
       "7                     8       0.069069\n",
       "5                     6       0.066025\n",
       "3                     4       0.053648\n",
       "2                     3       0.049430\n",
       "6                     7       0.047072\n",
       "4                     5       0.046341\n",
       "1                     2       0.030769\n",
       "0                     1       0.000000"
      ]
     },
     "execution_count": 12,
     "metadata": {},
     "output_type": "execute_result"
    }
   ],
   "source": [
    "train_df[['total_education_yrs', 'target_income']].groupby(['total_education_yrs'], as_index=False).mean().sort_values(by='target_income', ascending=False)"
   ]
  },
  {
   "cell_type": "code",
   "execution_count": 13,
   "id": "544afa3d",
   "metadata": {
    "execution": {
     "iopub.execute_input": "2021-12-06T12:30:38.500646Z",
     "iopub.status.busy": "2021-12-06T12:30:38.499968Z",
     "iopub.status.idle": "2021-12-06T12:30:39.032189Z",
     "shell.execute_reply": "2021-12-06T12:30:39.031462Z",
     "shell.execute_reply.started": "2021-12-06T12:28:47.975210Z"
    },
    "papermill": {
     "duration": 0.613159,
     "end_time": "2021-12-06T12:30:39.032362",
     "exception": false,
     "start_time": "2021-12-06T12:30:38.419203",
     "status": "completed"
    },
    "tags": []
   },
   "outputs": [
    {
     "data": {
      "image/png": "[encoded data removed]",
      "text/plain": [
       "<Figure size 864x432 with 1 Axes>"
      ]
     },
     "metadata": {
      "needs_background": "light"
     },
     "output_type": "display_data"
    }
   ],
   "source": [
    "plt.figure(figsize= (12,6))\n",
    "g = sns.kdeplot(data = train_df[train_df['target_income'] == 0]['total_education_yrs'], shade=True)\n",
    "g = sns.kdeplot(data = train_df[train_df['target_income'] == 1]['total_education_yrs'], shade=True)\n",
    "g = g.legend([\"income < 50k\",\"income >=50k\"])"
   ]
  },
  {
   "cell_type": "markdown",
   "id": "a2ee6a7f",
   "metadata": {
    "papermill": {
     "duration": 0.075767,
     "end_time": "2021-12-06T12:30:39.186427",
     "exception": false,
     "start_time": "2021-12-06T12:30:39.110660",
     "status": "completed"
    },
    "tags": []
   },
   "source": [
    "### Capital gain (people who has capital_gain == 99999 always has income >= 50k)"
   ]
  },
  {
   "cell_type": "code",
   "execution_count": 14,
   "id": "c81a6c6c",
   "metadata": {
    "execution": {
     "iopub.execute_input": "2021-12-06T12:30:39.348557Z",
     "iopub.status.busy": "2021-12-06T12:30:39.347127Z",
     "iopub.status.idle": "2021-12-06T12:30:39.815597Z",
     "shell.execute_reply": "2021-12-06T12:30:39.814997Z",
     "shell.execute_reply.started": "2021-12-06T12:28:48.585593Z"
    },
    "papermill": {
     "duration": 0.553202,
     "end_time": "2021-12-06T12:30:39.815749",
     "exception": false,
     "start_time": "2021-12-06T12:30:39.262547",
     "status": "completed"
    },
    "tags": []
   },
   "outputs": [
    {
     "data": {
      "image/png": "[encoded data removed]",
      "text/plain": [
       "<Figure size 864x432 with 1 Axes>"
      ]
     },
     "metadata": {
      "needs_background": "light"
     },
     "output_type": "display_data"
    }
   ],
   "source": [
    "plt.figure(figsize= (12,6))\n",
    "g = sns.kdeplot(data = train_df[train_df['target_income'] == 0]['capital_gain'], shade=True)\n",
    "g = sns.kdeplot(data = train_df[train_df['target_income'] == 1]['capital_gain'], shade=True)\n",
    "g = g.legend([\"income < 50k\",\"income >=50k\"])"
   ]
  },
  {
   "cell_type": "code",
   "execution_count": 15,
   "id": "65c0e480",
   "metadata": {
    "execution": {
     "iopub.execute_input": "2021-12-06T12:30:39.979278Z",
     "iopub.status.busy": "2021-12-06T12:30:39.978496Z",
     "iopub.status.idle": "2021-12-06T12:30:39.982007Z",
     "shell.execute_reply": "2021-12-06T12:30:39.981368Z",
     "shell.execute_reply.started": "2021-12-06T12:28:49.038180Z"
    },
    "papermill": {
     "duration": 0.088524,
     "end_time": "2021-12-06T12:30:39.982171",
     "exception": false,
     "start_time": "2021-12-06T12:30:39.893647",
     "status": "completed"
    },
    "tags": []
   },
   "outputs": [
    {
     "data": {
      "text/plain": [
       "27828    28\n",
       "25236    10\n",
       "34095     4\n",
       "25124     4\n",
       "41310     2\n",
       "Name: capital_gain, dtype: int64"
      ]
     },
     "execution_count": 15,
     "metadata": {},
     "output_type": "execute_result"
    }
   ],
   "source": [
    "train_df[train_df.capital_gain > 25000].capital_gain.value_counts()"
   ]
  },
  {
   "cell_type": "markdown",
   "id": "8673bea2",
   "metadata": {
    "papermill": {
     "duration": 0.081567,
     "end_time": "2021-12-06T12:30:40.145393",
     "exception": false,
     "start_time": "2021-12-06T12:30:40.063826",
     "status": "completed"
    },
    "tags": []
   },
   "source": [
    " **Does capital_gain over 25k mean income is over 50k? \\\n",
    " Answer: No**"
   ]
  },
  {
   "cell_type": "code",
   "execution_count": 16,
   "id": "37929a1c",
   "metadata": {
    "execution": {
     "iopub.execute_input": "2021-12-06T12:30:40.306208Z",
     "iopub.status.busy": "2021-12-06T12:30:40.305450Z",
     "iopub.status.idle": "2021-12-06T12:30:40.309893Z",
     "shell.execute_reply": "2021-12-06T12:30:40.310531Z",
     "shell.execute_reply.started": "2021-12-06T12:28:49.051231Z"
    },
    "papermill": {
     "duration": 0.087648,
     "end_time": "2021-12-06T12:30:40.310730",
     "exception": false,
     "start_time": "2021-12-06T12:30:40.223082",
     "status": "completed"
    },
    "tags": []
   },
   "outputs": [
    {
     "data": {
      "text/plain": [
       "0.875"
      ]
     },
     "execution_count": 16,
     "metadata": {},
     "output_type": "execute_result"
    }
   ],
   "source": [
    "train_df[train_df.capital_gain > 25000].target_income.mean()"
   ]
  },
  {
   "cell_type": "markdown",
   "id": "3d82fd33",
   "metadata": {
    "papermill": {
     "duration": 0.078052,
     "end_time": "2021-12-06T12:30:40.467320",
     "exception": false,
     "start_time": "2021-12-06T12:30:40.389268",
     "status": "completed"
    },
    "tags": []
   },
   "source": [
    "### Capital loss"
   ]
  },
  {
   "cell_type": "code",
   "execution_count": 17,
   "id": "a5c71052",
   "metadata": {
    "execution": {
     "iopub.execute_input": "2021-12-06T12:30:40.631763Z",
     "iopub.status.busy": "2021-12-06T12:30:40.627122Z",
     "iopub.status.idle": "2021-12-06T12:30:41.115731Z",
     "shell.execute_reply": "2021-12-06T12:30:41.116267Z",
     "shell.execute_reply.started": "2021-12-06T12:28:49.066451Z"
    },
    "papermill": {
     "duration": 0.569652,
     "end_time": "2021-12-06T12:30:41.116465",
     "exception": false,
     "start_time": "2021-12-06T12:30:40.546813",
     "status": "completed"
    },
    "tags": []
   },
   "outputs": [
    {
     "data": {
      "image/png": "[encoded data removed]",
      "text/plain": [
       "<Figure size 864x432 with 1 Axes>"
      ]
     },
     "metadata": {
      "needs_background": "light"
     },
     "output_type": "display_data"
    }
   ],
   "source": [
    "plt.figure(figsize= (12,6))\n",
    "g = sns.kdeplot(data = train_df[train_df['target_income'] == 0]['capital_loss'], shade=True)\n",
    "g = sns.kdeplot(data = train_df[train_df['target_income'] == 1]['capital_loss'], shade=True)\n",
    "g = g.legend([\"income < 50k\",\"income >=50k\"])"
   ]
  },
  {
   "cell_type": "markdown",
   "id": "fa6d4299",
   "metadata": {
    "papermill": {
     "duration": 0.078465,
     "end_time": "2021-12-06T12:30:41.273588",
     "exception": false,
     "start_time": "2021-12-06T12:30:41.195123",
     "status": "completed"
    },
    "tags": []
   },
   "source": [
    "### hrs_per_week"
   ]
  },
  {
   "cell_type": "markdown",
   "id": "ec386a60",
   "metadata": {
    "papermill": {
     "duration": 0.077961,
     "end_time": "2021-12-06T12:30:41.430868",
     "exception": false,
     "start_time": "2021-12-06T12:30:41.352907",
     "status": "completed"
    },
    "tags": []
   },
   "source": [
    "**hrs_per_week has some values == 99 which is abnormal**"
   ]
  },
  {
   "cell_type": "code",
   "execution_count": 18,
   "id": "a5f1c5d9",
   "metadata": {
    "execution": {
     "iopub.execute_input": "2021-12-06T12:30:41.593045Z",
     "iopub.status.busy": "2021-12-06T12:30:41.591963Z",
     "iopub.status.idle": "2021-12-06T12:30:41.601351Z",
     "shell.execute_reply": "2021-12-06T12:30:41.601855Z",
     "shell.execute_reply.started": "2021-12-06T12:28:49.545605Z"
    },
    "papermill": {
     "duration": 0.092243,
     "end_time": "2021-12-06T12:30:41.602066",
     "exception": false,
     "start_time": "2021-12-06T12:30:41.509823",
     "status": "completed"
    },
    "tags": []
   },
   "outputs": [
    {
     "data": {
      "text/plain": [
       "18"
      ]
     },
     "execution_count": 18,
     "metadata": {},
     "output_type": "execute_result"
    }
   ],
   "source": [
    "sum(train_df[train_df['target_income'] == 1]['hrs_per_week'] ==99)"
   ]
  },
  {
   "cell_type": "markdown",
   "id": "e093c568",
   "metadata": {
    "papermill": {
     "duration": 0.078849,
     "end_time": "2021-12-06T12:30:41.760865",
     "exception": false,
     "start_time": "2021-12-06T12:30:41.682016",
     "status": "completed"
    },
    "tags": []
   },
   "source": [
    " **Does hrs_per_week = 99 mean income is over 50k? \\\n",
    " Answer: No**"
   ]
  },
  {
   "cell_type": "code",
   "execution_count": 19,
   "id": "0b2864ad",
   "metadata": {
    "execution": {
     "iopub.execute_input": "2021-12-06T12:30:41.928912Z",
     "iopub.status.busy": "2021-12-06T12:30:41.927876Z",
     "iopub.status.idle": "2021-12-06T12:30:41.935436Z",
     "shell.execute_reply": "2021-12-06T12:30:41.936064Z",
     "shell.execute_reply.started": "2021-12-06T12:28:49.555931Z"
    },
    "papermill": {
     "duration": 0.094299,
     "end_time": "2021-12-06T12:30:41.936257",
     "exception": false,
     "start_time": "2021-12-06T12:30:41.841958",
     "status": "completed"
    },
    "tags": []
   },
   "outputs": [
    {
     "data": {
      "text/plain": [
       "0.28125"
      ]
     },
     "execution_count": 19,
     "metadata": {},
     "output_type": "execute_result"
    }
   ],
   "source": [
    "train_df[train_df.hrs_per_week == 99].target_income.mean()"
   ]
  },
  {
   "cell_type": "code",
   "execution_count": 20,
   "id": "4a1fd474",
   "metadata": {
    "execution": {
     "iopub.execute_input": "2021-12-06T12:30:42.107818Z",
     "iopub.status.busy": "2021-12-06T12:30:42.107113Z",
     "iopub.status.idle": "2021-12-06T12:30:42.610622Z",
     "shell.execute_reply": "2021-12-06T12:30:42.611239Z",
     "shell.execute_reply.started": "2021-12-06T12:28:49.571508Z"
    },
    "papermill": {
     "duration": 0.59571,
     "end_time": "2021-12-06T12:30:42.611443",
     "exception": false,
     "start_time": "2021-12-06T12:30:42.015733",
     "status": "completed"
    },
    "tags": []
   },
   "outputs": [
    {
     "data": {
      "image/png": "[encoded data removed]",
      "text/plain": [
       "<Figure size 864x432 with 1 Axes>"
      ]
     },
     "metadata": {
      "needs_background": "light"
     },
     "output_type": "display_data"
    }
   ],
   "source": [
    "plt.figure(figsize= (12,6))\n",
    "g = sns.kdeplot(data = train_df[train_df['target_income'] == 0]['hrs_per_week'], shade=True)\n",
    "g = sns.kdeplot(data = train_df[train_df['target_income'] == 1]['hrs_per_week'], shade=True)\n",
    "g = g.legend([\"income < 50k\",\"income >=50k\"])"
   ]
  },
  {
   "cell_type": "markdown",
   "id": "b0d08961",
   "metadata": {
    "papermill": {
     "duration": 0.080641,
     "end_time": "2021-12-06T12:30:42.772526",
     "exception": false,
     "start_time": "2021-12-06T12:30:42.691885",
     "status": "completed"
    },
    "tags": []
   },
   "source": [
    "## Categorical features"
   ]
  },
  {
   "cell_type": "code",
   "execution_count": 21,
   "id": "60b9ad73",
   "metadata": {
    "execution": {
     "iopub.execute_input": "2021-12-06T12:30:42.938082Z",
     "iopub.status.busy": "2021-12-06T12:30:42.937088Z",
     "iopub.status.idle": "2021-12-06T12:30:42.957328Z",
     "shell.execute_reply": "2021-12-06T12:30:42.957838Z",
     "shell.execute_reply.started": "2021-12-06T12:28:50.076383Z"
    },
    "papermill": {
     "duration": 0.105644,
     "end_time": "2021-12-06T12:30:42.958026",
     "exception": false,
     "start_time": "2021-12-06T12:30:42.852382",
     "status": "completed"
    },
    "tags": []
   },
   "outputs": [
    {
     "data": {
      "text/html": [
       "<div>\n",
       "<style scoped>\n",
       "    .dataframe tbody tr th:only-of-type {\n",
       "        vertical-align: middle;\n",
       "    }\n",
       "\n",
       "    .dataframe tbody tr th {\n",
       "        vertical-align: top;\n",
       "    }\n",
       "\n",
       "    .dataframe thead th {\n",
       "        text-align: right;\n",
       "    }\n",
       "</style>\n",
       "<table border=\"1\" class=\"dataframe\">\n",
       "  <thead>\n",
       "    <tr style=\"text-align: right;\">\n",
       "      <th></th>\n",
       "      <th>education</th>\n",
       "      <th>total_education_yrs</th>\n",
       "      <th>target_income</th>\n",
       "    </tr>\n",
       "  </thead>\n",
       "  <tbody>\n",
       "    <tr>\n",
       "      <th>10</th>\n",
       "      <td>Doctorate</td>\n",
       "      <td>16</td>\n",
       "      <td>0.721477</td>\n",
       "    </tr>\n",
       "    <tr>\n",
       "      <th>14</th>\n",
       "      <td>Prof-school</td>\n",
       "      <td>15</td>\n",
       "      <td>0.698113</td>\n",
       "    </tr>\n",
       "    <tr>\n",
       "      <th>12</th>\n",
       "      <td>Masters</td>\n",
       "      <td>14</td>\n",
       "      <td>0.548780</td>\n",
       "    </tr>\n",
       "    <tr>\n",
       "      <th>9</th>\n",
       "      <td>Bachelors</td>\n",
       "      <td>13</td>\n",
       "      <td>0.411882</td>\n",
       "    </tr>\n",
       "    <tr>\n",
       "      <th>8</th>\n",
       "      <td>Assoc-voc</td>\n",
       "      <td>11</td>\n",
       "      <td>0.257089</td>\n",
       "    </tr>\n",
       "    <tr>\n",
       "      <th>7</th>\n",
       "      <td>Assoc-acdm</td>\n",
       "      <td>12</td>\n",
       "      <td>0.244848</td>\n",
       "    </tr>\n",
       "    <tr>\n",
       "      <th>15</th>\n",
       "      <td>Some-college</td>\n",
       "      <td>10</td>\n",
       "      <td>0.189156</td>\n",
       "    </tr>\n",
       "    <tr>\n",
       "      <th>11</th>\n",
       "      <td>HS-grad</td>\n",
       "      <td>9</td>\n",
       "      <td>0.157136</td>\n",
       "    </tr>\n",
       "    <tr>\n",
       "      <th>2</th>\n",
       "      <td>12th</td>\n",
       "      <td>8</td>\n",
       "      <td>0.069069</td>\n",
       "    </tr>\n",
       "    <tr>\n",
       "      <th>0</th>\n",
       "      <td>10th</td>\n",
       "      <td>6</td>\n",
       "      <td>0.066025</td>\n",
       "    </tr>\n",
       "    <tr>\n",
       "      <th>5</th>\n",
       "      <td>7th-8th</td>\n",
       "      <td>4</td>\n",
       "      <td>0.053648</td>\n",
       "    </tr>\n",
       "    <tr>\n",
       "      <th>4</th>\n",
       "      <td>5th-6th</td>\n",
       "      <td>3</td>\n",
       "      <td>0.049430</td>\n",
       "    </tr>\n",
       "    <tr>\n",
       "      <th>1</th>\n",
       "      <td>11th</td>\n",
       "      <td>7</td>\n",
       "      <td>0.047072</td>\n",
       "    </tr>\n",
       "    <tr>\n",
       "      <th>6</th>\n",
       "      <td>9th</td>\n",
       "      <td>5</td>\n",
       "      <td>0.046341</td>\n",
       "    </tr>\n",
       "    <tr>\n",
       "      <th>3</th>\n",
       "      <td>1st-4th</td>\n",
       "      <td>2</td>\n",
       "      <td>0.030769</td>\n",
       "    </tr>\n",
       "    <tr>\n",
       "      <th>13</th>\n",
       "      <td>Preschool</td>\n",
       "      <td>1</td>\n",
       "      <td>0.000000</td>\n",
       "    </tr>\n",
       "  </tbody>\n",
       "</table>\n",
       "</div>"
      ],
      "text/plain": [
       "       education  total_education_yrs  target_income\n",
       "10     Doctorate                   16       0.721477\n",
       "14   Prof-school                   15       0.698113\n",
       "12       Masters                   14       0.548780\n",
       "9      Bachelors                   13       0.411882\n",
       "8      Assoc-voc                   11       0.257089\n",
       "7     Assoc-acdm                   12       0.244848\n",
       "15  Some-college                   10       0.189156\n",
       "11       HS-grad                    9       0.157136\n",
       "2           12th                    8       0.069069\n",
       "0           10th                    6       0.066025\n",
       "5        7th-8th                    4       0.053648\n",
       "4        5th-6th                    3       0.049430\n",
       "1           11th                    7       0.047072\n",
       "6            9th                    5       0.046341\n",
       "3        1st-4th                    2       0.030769\n",
       "13     Preschool                    1       0.000000"
      ]
     },
     "execution_count": 21,
     "metadata": {},
     "output_type": "execute_result"
    }
   ],
   "source": [
    "train_df[['education','total_education_yrs' , 'target_income']].groupby(['education', 'total_education_yrs'], as_index=False).mean().sort_values(by='target_income', ascending=False)"
   ]
  },
  {
   "cell_type": "markdown",
   "id": "a40c64b0",
   "metadata": {
    "papermill": {
     "duration": 0.103065,
     "end_time": "2021-12-06T12:30:43.142504",
     "exception": false,
     "start_time": "2021-12-06T12:30:43.039439",
     "status": "completed"
    },
    "tags": []
   },
   "source": [
    "### work_type"
   ]
  },
  {
   "cell_type": "code",
   "execution_count": 22,
   "id": "88f8c48e",
   "metadata": {
    "execution": {
     "iopub.execute_input": "2021-12-06T12:30:43.314536Z",
     "iopub.status.busy": "2021-12-06T12:30:43.313579Z",
     "iopub.status.idle": "2021-12-06T12:30:43.330529Z",
     "shell.execute_reply": "2021-12-06T12:30:43.331135Z",
     "shell.execute_reply.started": "2021-12-06T12:28:50.102645Z"
    },
    "papermill": {
     "duration": 0.102115,
     "end_time": "2021-12-06T12:30:43.331302",
     "exception": false,
     "start_time": "2021-12-06T12:30:43.229187",
     "status": "completed"
    },
    "tags": []
   },
   "outputs": [
    {
     "data": {
      "text/html": [
       "<div>\n",
       "<style scoped>\n",
       "    .dataframe tbody tr th:only-of-type {\n",
       "        vertical-align: middle;\n",
       "    }\n",
       "\n",
       "    .dataframe tbody tr th {\n",
       "        vertical-align: top;\n",
       "    }\n",
       "\n",
       "    .dataframe thead th {\n",
       "        text-align: right;\n",
       "    }\n",
       "</style>\n",
       "<table border=\"1\" class=\"dataframe\">\n",
       "  <thead>\n",
       "    <tr style=\"text-align: right;\">\n",
       "      <th></th>\n",
       "      <th>work_type</th>\n",
       "      <th>target_income</th>\n",
       "    </tr>\n",
       "  </thead>\n",
       "  <tbody>\n",
       "    <tr>\n",
       "      <th>4</th>\n",
       "      <td>Self-emp-inc</td>\n",
       "      <td>0.537530</td>\n",
       "    </tr>\n",
       "    <tr>\n",
       "      <th>0</th>\n",
       "      <td>Federal-gov</td>\n",
       "      <td>0.366621</td>\n",
       "    </tr>\n",
       "    <tr>\n",
       "      <th>1</th>\n",
       "      <td>Local-gov</td>\n",
       "      <td>0.291562</td>\n",
       "    </tr>\n",
       "    <tr>\n",
       "      <th>5</th>\n",
       "      <td>Self-emp-not-inc</td>\n",
       "      <td>0.277342</td>\n",
       "    </tr>\n",
       "    <tr>\n",
       "      <th>6</th>\n",
       "      <td>State-gov</td>\n",
       "      <td>0.264523</td>\n",
       "    </tr>\n",
       "    <tr>\n",
       "      <th>3</th>\n",
       "      <td>Private</td>\n",
       "      <td>0.215488</td>\n",
       "    </tr>\n",
       "    <tr>\n",
       "      <th>2</th>\n",
       "      <td>Never-worked</td>\n",
       "      <td>0.000000</td>\n",
       "    </tr>\n",
       "    <tr>\n",
       "      <th>7</th>\n",
       "      <td>Without-pay</td>\n",
       "      <td>0.000000</td>\n",
       "    </tr>\n",
       "  </tbody>\n",
       "</table>\n",
       "</div>"
      ],
      "text/plain": [
       "          work_type  target_income\n",
       "4      Self-emp-inc       0.537530\n",
       "0       Federal-gov       0.366621\n",
       "1         Local-gov       0.291562\n",
       "5  Self-emp-not-inc       0.277342\n",
       "6         State-gov       0.264523\n",
       "3           Private       0.215488\n",
       "2      Never-worked       0.000000\n",
       "7       Without-pay       0.000000"
      ]
     },
     "execution_count": 22,
     "metadata": {},
     "output_type": "execute_result"
    }
   ],
   "source": [
    "train_df[['work_type', 'target_income']].groupby(['work_type'], as_index=False).mean().sort_values(by='target_income', ascending=False)"
   ]
  },
  {
   "cell_type": "markdown",
   "id": "b737d8be",
   "metadata": {
    "papermill": {
     "duration": 0.080295,
     "end_time": "2021-12-06T12:30:43.492023",
     "exception": false,
     "start_time": "2021-12-06T12:30:43.411728",
     "status": "completed"
    },
    "tags": []
   },
   "source": [
    "### sex"
   ]
  },
  {
   "cell_type": "code",
   "execution_count": 23,
   "id": "ecc058fe",
   "metadata": {
    "execution": {
     "iopub.execute_input": "2021-12-06T12:30:43.657186Z",
     "iopub.status.busy": "2021-12-06T12:30:43.656249Z",
     "iopub.status.idle": "2021-12-06T12:30:43.672476Z",
     "shell.execute_reply": "2021-12-06T12:30:43.671919Z",
     "shell.execute_reply.started": "2021-12-06T12:28:50.123744Z"
    },
    "papermill": {
     "duration": 0.099838,
     "end_time": "2021-12-06T12:30:43.672613",
     "exception": false,
     "start_time": "2021-12-06T12:30:43.572775",
     "status": "completed"
    },
    "tags": []
   },
   "outputs": [
    {
     "data": {
      "text/html": [
       "<div>\n",
       "<style scoped>\n",
       "    .dataframe tbody tr th:only-of-type {\n",
       "        vertical-align: middle;\n",
       "    }\n",
       "\n",
       "    .dataframe tbody tr th {\n",
       "        vertical-align: top;\n",
       "    }\n",
       "\n",
       "    .dataframe thead th {\n",
       "        text-align: right;\n",
       "    }\n",
       "</style>\n",
       "<table border=\"1\" class=\"dataframe\">\n",
       "  <thead>\n",
       "    <tr style=\"text-align: right;\">\n",
       "      <th></th>\n",
       "      <th>sex</th>\n",
       "      <th>target_income</th>\n",
       "    </tr>\n",
       "  </thead>\n",
       "  <tbody>\n",
       "    <tr>\n",
       "      <th>1</th>\n",
       "      <td>M</td>\n",
       "      <td>0.300470</td>\n",
       "    </tr>\n",
       "    <tr>\n",
       "      <th>0</th>\n",
       "      <td>F</td>\n",
       "      <td>0.106401</td>\n",
       "    </tr>\n",
       "  </tbody>\n",
       "</table>\n",
       "</div>"
      ],
      "text/plain": [
       "  sex  target_income\n",
       "1   M       0.300470\n",
       "0   F       0.106401"
      ]
     },
     "execution_count": 23,
     "metadata": {},
     "output_type": "execute_result"
    }
   ],
   "source": [
    "train_df[['sex','target_income']].groupby(['sex'], as_index=False).mean().sort_values(by='target_income', ascending=False)"
   ]
  },
  {
   "cell_type": "code",
   "execution_count": 24,
   "id": "ccb902cf",
   "metadata": {
    "execution": {
     "iopub.execute_input": "2021-12-06T12:30:43.842994Z",
     "iopub.status.busy": "2021-12-06T12:30:43.841883Z",
     "iopub.status.idle": "2021-12-06T12:30:44.260585Z",
     "shell.execute_reply": "2021-12-06T12:30:44.261130Z",
     "shell.execute_reply.started": "2021-12-06T12:28:50.145564Z"
    },
    "papermill": {
     "duration": 0.507189,
     "end_time": "2021-12-06T12:30:44.261329",
     "exception": false,
     "start_time": "2021-12-06T12:30:43.754140",
     "status": "completed"
    },
    "tags": []
   },
   "outputs": [
    {
     "data": {
      "text/plain": [
       "Text(0, 0.5, 'Target income probability')"
      ]
     },
     "execution_count": 24,
     "metadata": {},
     "output_type": "execute_result"
    },
    {
     "data": {
      "image/png": "[encoded data removed]",
      "text/plain": [
       "<Figure size 432x288 with 1 Axes>"
      ]
     },
     "metadata": {
      "needs_background": "light"
     },
     "output_type": "display_data"
    }
   ],
   "source": [
    "sns.barplot(x='sex', y='target_income', data = train_df)\n",
    "plt.ylabel(\"Target income probability\")"
   ]
  },
  {
   "cell_type": "markdown",
   "id": "c2b3bc76",
   "metadata": {
    "papermill": {
     "duration": 0.085211,
     "end_time": "2021-12-06T12:30:44.430430",
     "exception": false,
     "start_time": "2021-12-06T12:30:44.345219",
     "status": "completed"
    },
    "tags": []
   },
   "source": [
    "### ethnicity"
   ]
  },
  {
   "cell_type": "code",
   "execution_count": 25,
   "id": "a1bc9f03",
   "metadata": {
    "execution": {
     "iopub.execute_input": "2021-12-06T12:30:44.601209Z",
     "iopub.status.busy": "2021-12-06T12:30:44.600145Z",
     "iopub.status.idle": "2021-12-06T12:30:44.617873Z",
     "shell.execute_reply": "2021-12-06T12:30:44.618508Z",
     "shell.execute_reply.started": "2021-12-06T12:28:50.590860Z"
    },
    "papermill": {
     "duration": 0.104924,
     "end_time": "2021-12-06T12:30:44.618692",
     "exception": false,
     "start_time": "2021-12-06T12:30:44.513768",
     "status": "completed"
    },
    "tags": []
   },
   "outputs": [
    {
     "data": {
      "text/html": [
       "<div>\n",
       "<style scoped>\n",
       "    .dataframe tbody tr th:only-of-type {\n",
       "        vertical-align: middle;\n",
       "    }\n",
       "\n",
       "    .dataframe tbody tr th {\n",
       "        vertical-align: top;\n",
       "    }\n",
       "\n",
       "    .dataframe thead th {\n",
       "        text-align: right;\n",
       "    }\n",
       "</style>\n",
       "<table border=\"1\" class=\"dataframe\">\n",
       "  <thead>\n",
       "    <tr style=\"text-align: right;\">\n",
       "      <th></th>\n",
       "      <th>ethnicity</th>\n",
       "      <th>target_income</th>\n",
       "    </tr>\n",
       "  </thead>\n",
       "  <tbody>\n",
       "    <tr>\n",
       "      <th>1</th>\n",
       "      <td>Asian-Pac-Islander</td>\n",
       "      <td>0.254215</td>\n",
       "    </tr>\n",
       "    <tr>\n",
       "      <th>4</th>\n",
       "      <td>White</td>\n",
       "      <td>0.251292</td>\n",
       "    </tr>\n",
       "    <tr>\n",
       "      <th>0</th>\n",
       "      <td>Amer-Indian-Eskimo</td>\n",
       "      <td>0.128099</td>\n",
       "    </tr>\n",
       "    <tr>\n",
       "      <th>2</th>\n",
       "      <td>Black</td>\n",
       "      <td>0.116660</td>\n",
       "    </tr>\n",
       "    <tr>\n",
       "      <th>3</th>\n",
       "      <td>Other</td>\n",
       "      <td>0.075758</td>\n",
       "    </tr>\n",
       "  </tbody>\n",
       "</table>\n",
       "</div>"
      ],
      "text/plain": [
       "            ethnicity  target_income\n",
       "1  Asian-Pac-Islander       0.254215\n",
       "4               White       0.251292\n",
       "0  Amer-Indian-Eskimo       0.128099\n",
       "2               Black       0.116660\n",
       "3               Other       0.075758"
      ]
     },
     "execution_count": 25,
     "metadata": {},
     "output_type": "execute_result"
    }
   ],
   "source": [
    "train_df[['ethnicity', 'target_income']].groupby(['ethnicity'], as_index=False).mean().sort_values(by='target_income', ascending=False)"
   ]
  },
  {
   "cell_type": "markdown",
   "id": "d1dc85f0",
   "metadata": {
    "papermill": {
     "duration": 0.083359,
     "end_time": "2021-12-06T12:30:44.784636",
     "exception": false,
     "start_time": "2021-12-06T12:30:44.701277",
     "status": "completed"
    },
    "tags": []
   },
   "source": [
    "### status"
   ]
  },
  {
   "cell_type": "code",
   "execution_count": 26,
   "id": "2d7fa111",
   "metadata": {
    "execution": {
     "iopub.execute_input": "2021-12-06T12:30:44.961728Z",
     "iopub.status.busy": "2021-12-06T12:30:44.957631Z",
     "iopub.status.idle": "2021-12-06T12:30:44.973365Z",
     "shell.execute_reply": "2021-12-06T12:30:44.974038Z",
     "shell.execute_reply.started": "2021-12-06T12:28:50.614497Z"
    },
    "papermill": {
     "duration": 0.106742,
     "end_time": "2021-12-06T12:30:44.974216",
     "exception": false,
     "start_time": "2021-12-06T12:30:44.867474",
     "status": "completed"
    },
    "tags": []
   },
   "outputs": [
    {
     "data": {
      "text/html": [
       "<div>\n",
       "<style scoped>\n",
       "    .dataframe tbody tr th:only-of-type {\n",
       "        vertical-align: middle;\n",
       "    }\n",
       "\n",
       "    .dataframe tbody tr th {\n",
       "        vertical-align: top;\n",
       "    }\n",
       "\n",
       "    .dataframe thead th {\n",
       "        text-align: right;\n",
       "    }\n",
       "</style>\n",
       "<table border=\"1\" class=\"dataframe\">\n",
       "  <thead>\n",
       "    <tr style=\"text-align: right;\">\n",
       "      <th></th>\n",
       "      <th>status</th>\n",
       "      <th>target_income</th>\n",
       "    </tr>\n",
       "  </thead>\n",
       "  <tbody>\n",
       "    <tr>\n",
       "      <th>5</th>\n",
       "      <td>Wife</td>\n",
       "      <td>0.469748</td>\n",
       "    </tr>\n",
       "    <tr>\n",
       "      <th>0</th>\n",
       "      <td>Husband</td>\n",
       "      <td>0.443924</td>\n",
       "    </tr>\n",
       "    <tr>\n",
       "      <th>1</th>\n",
       "      <td>Not-in-family</td>\n",
       "      <td>0.098203</td>\n",
       "    </tr>\n",
       "    <tr>\n",
       "      <th>4</th>\n",
       "      <td>Unmarried</td>\n",
       "      <td>0.062760</td>\n",
       "    </tr>\n",
       "    <tr>\n",
       "      <th>2</th>\n",
       "      <td>Other-relative</td>\n",
       "      <td>0.031088</td>\n",
       "    </tr>\n",
       "    <tr>\n",
       "      <th>3</th>\n",
       "      <td>Own-child</td>\n",
       "      <td>0.011533</td>\n",
       "    </tr>\n",
       "  </tbody>\n",
       "</table>\n",
       "</div>"
      ],
      "text/plain": [
       "           status  target_income\n",
       "5            Wife       0.469748\n",
       "0         Husband       0.443924\n",
       "1   Not-in-family       0.098203\n",
       "4       Unmarried       0.062760\n",
       "2  Other-relative       0.031088\n",
       "3       Own-child       0.011533"
      ]
     },
     "execution_count": 26,
     "metadata": {},
     "output_type": "execute_result"
    }
   ],
   "source": [
    "train_df[['status', 'target_income']].groupby(['status'], as_index=False).mean().sort_values(by='target_income', ascending=False)"
   ]
  },
  {
   "cell_type": "markdown",
   "id": "804ba246",
   "metadata": {
    "papermill": {
     "duration": 0.083596,
     "end_time": "2021-12-06T12:30:45.142261",
     "exception": false,
     "start_time": "2021-12-06T12:30:45.058665",
     "status": "completed"
    },
    "tags": []
   },
   "source": [
    "### job"
   ]
  },
  {
   "cell_type": "code",
   "execution_count": 27,
   "id": "bb1650b4",
   "metadata": {
    "execution": {
     "iopub.execute_input": "2021-12-06T12:30:45.313084Z",
     "iopub.status.busy": "2021-12-06T12:30:45.312348Z",
     "iopub.status.idle": "2021-12-06T12:30:45.322036Z",
     "shell.execute_reply": "2021-12-06T12:30:45.322575Z",
     "shell.execute_reply.started": "2021-12-06T12:28:50.638813Z"
    },
    "papermill": {
     "duration": 0.096698,
     "end_time": "2021-12-06T12:30:45.322749",
     "exception": false,
     "start_time": "2021-12-06T12:30:45.226051",
     "status": "completed"
    },
    "tags": []
   },
   "outputs": [
    {
     "data": {
      "text/plain": [
       "Craft-repair         3139\n",
       "Prof-specialty       3081\n",
       "Exec-managerial      3056\n",
       "Adm-clerical         2904\n",
       "Sales                2812\n",
       "Other-service        2597\n",
       "Machine-op-inspct    1554\n",
       "Transport-moving     1209\n",
       "Handlers-cleaners    1046\n",
       "Farming-fishing       766\n",
       "Tech-support          725\n",
       "Protective-serv       494\n",
       "Priv-house-serv       111\n",
       "Armed-Forces            8\n",
       "Name: job, dtype: int64"
      ]
     },
     "execution_count": 27,
     "metadata": {},
     "output_type": "execute_result"
    }
   ],
   "source": [
    "train_df['job'].value_counts()"
   ]
  },
  {
   "cell_type": "code",
   "execution_count": 28,
   "id": "b503c97c",
   "metadata": {
    "execution": {
     "iopub.execute_input": "2021-12-06T12:30:45.494104Z",
     "iopub.status.busy": "2021-12-06T12:30:45.493327Z",
     "iopub.status.idle": "2021-12-06T12:30:45.511559Z",
     "shell.execute_reply": "2021-12-06T12:30:45.510982Z",
     "shell.execute_reply.started": "2021-12-06T12:28:50.657472Z"
    },
    "papermill": {
     "duration": 0.105247,
     "end_time": "2021-12-06T12:30:45.511708",
     "exception": false,
     "start_time": "2021-12-06T12:30:45.406461",
     "status": "completed"
    },
    "tags": []
   },
   "outputs": [
    {
     "data": {
      "text/html": [
       "<div>\n",
       "<style scoped>\n",
       "    .dataframe tbody tr th:only-of-type {\n",
       "        vertical-align: middle;\n",
       "    }\n",
       "\n",
       "    .dataframe tbody tr th {\n",
       "        vertical-align: top;\n",
       "    }\n",
       "\n",
       "    .dataframe thead th {\n",
       "        text-align: right;\n",
       "    }\n",
       "</style>\n",
       "<table border=\"1\" class=\"dataframe\">\n",
       "  <thead>\n",
       "    <tr style=\"text-align: right;\">\n",
       "      <th></th>\n",
       "      <th>job</th>\n",
       "      <th>target_income</th>\n",
       "    </tr>\n",
       "  </thead>\n",
       "  <tbody>\n",
       "    <tr>\n",
       "      <th>3</th>\n",
       "      <td>Exec-managerial</td>\n",
       "      <td>0.475131</td>\n",
       "    </tr>\n",
       "    <tr>\n",
       "      <th>9</th>\n",
       "      <td>Prof-specialty</td>\n",
       "      <td>0.435248</td>\n",
       "    </tr>\n",
       "    <tr>\n",
       "      <th>10</th>\n",
       "      <td>Protective-serv</td>\n",
       "      <td>0.325911</td>\n",
       "    </tr>\n",
       "    <tr>\n",
       "      <th>12</th>\n",
       "      <td>Tech-support</td>\n",
       "      <td>0.304828</td>\n",
       "    </tr>\n",
       "    <tr>\n",
       "      <th>11</th>\n",
       "      <td>Sales</td>\n",
       "      <td>0.264936</td>\n",
       "    </tr>\n",
       "    <tr>\n",
       "      <th>2</th>\n",
       "      <td>Craft-repair</td>\n",
       "      <td>0.225868</td>\n",
       "    </tr>\n",
       "    <tr>\n",
       "      <th>13</th>\n",
       "      <td>Transport-moving</td>\n",
       "      <td>0.211745</td>\n",
       "    </tr>\n",
       "    <tr>\n",
       "      <th>0</th>\n",
       "      <td>Adm-clerical</td>\n",
       "      <td>0.131198</td>\n",
       "    </tr>\n",
       "    <tr>\n",
       "      <th>6</th>\n",
       "      <td>Machine-op-inspct</td>\n",
       "      <td>0.126770</td>\n",
       "    </tr>\n",
       "    <tr>\n",
       "      <th>1</th>\n",
       "      <td>Armed-Forces</td>\n",
       "      <td>0.125000</td>\n",
       "    </tr>\n",
       "    <tr>\n",
       "      <th>4</th>\n",
       "      <td>Farming-fishing</td>\n",
       "      <td>0.117493</td>\n",
       "    </tr>\n",
       "    <tr>\n",
       "      <th>5</th>\n",
       "      <td>Handlers-cleaners</td>\n",
       "      <td>0.060229</td>\n",
       "    </tr>\n",
       "    <tr>\n",
       "      <th>7</th>\n",
       "      <td>Other-service</td>\n",
       "      <td>0.041201</td>\n",
       "    </tr>\n",
       "    <tr>\n",
       "      <th>8</th>\n",
       "      <td>Priv-house-serv</td>\n",
       "      <td>0.009009</td>\n",
       "    </tr>\n",
       "  </tbody>\n",
       "</table>\n",
       "</div>"
      ],
      "text/plain": [
       "                  job  target_income\n",
       "3     Exec-managerial       0.475131\n",
       "9      Prof-specialty       0.435248\n",
       "10    Protective-serv       0.325911\n",
       "12       Tech-support       0.304828\n",
       "11              Sales       0.264936\n",
       "2        Craft-repair       0.225868\n",
       "13   Transport-moving       0.211745\n",
       "0        Adm-clerical       0.131198\n",
       "6   Machine-op-inspct       0.126770\n",
       "1        Armed-Forces       0.125000\n",
       "4     Farming-fishing       0.117493\n",
       "5   Handlers-cleaners       0.060229\n",
       "7       Other-service       0.041201\n",
       "8     Priv-house-serv       0.009009"
      ]
     },
     "execution_count": 28,
     "metadata": {},
     "output_type": "execute_result"
    }
   ],
   "source": [
    "train_df[['job', 'target_income']].groupby(['job'], as_index=False).mean().sort_values(by='target_income', ascending=False)"
   ]
  },
  {
   "cell_type": "markdown",
   "id": "1d731ce7",
   "metadata": {
    "papermill": {
     "duration": 0.083656,
     "end_time": "2021-12-06T12:30:45.680751",
     "exception": false,
     "start_time": "2021-12-06T12:30:45.597095",
     "status": "completed"
    },
    "tags": []
   },
   "source": [
    "### marital_state"
   ]
  },
  {
   "cell_type": "code",
   "execution_count": 29,
   "id": "8615f5a9",
   "metadata": {
    "execution": {
     "iopub.execute_input": "2021-12-06T12:30:45.857263Z",
     "iopub.status.busy": "2021-12-06T12:30:45.856561Z",
     "iopub.status.idle": "2021-12-06T12:30:45.870685Z",
     "shell.execute_reply": "2021-12-06T12:30:45.871323Z",
     "shell.execute_reply.started": "2021-12-06T12:28:50.682261Z"
    },
    "papermill": {
     "duration": 0.106522,
     "end_time": "2021-12-06T12:30:45.871524",
     "exception": false,
     "start_time": "2021-12-06T12:30:45.765002",
     "status": "completed"
    },
    "tags": []
   },
   "outputs": [
    {
     "data": {
      "text/html": [
       "<div>\n",
       "<style scoped>\n",
       "    .dataframe tbody tr th:only-of-type {\n",
       "        vertical-align: middle;\n",
       "    }\n",
       "\n",
       "    .dataframe tbody tr th {\n",
       "        vertical-align: top;\n",
       "    }\n",
       "\n",
       "    .dataframe thead th {\n",
       "        text-align: right;\n",
       "    }\n",
       "</style>\n",
       "<table border=\"1\" class=\"dataframe\">\n",
       "  <thead>\n",
       "    <tr style=\"text-align: right;\">\n",
       "      <th></th>\n",
       "      <th>marital_state</th>\n",
       "      <th>target_income</th>\n",
       "    </tr>\n",
       "  </thead>\n",
       "  <tbody>\n",
       "    <tr>\n",
       "      <th>2</th>\n",
       "      <td>Married-civ-spouse</td>\n",
       "      <td>0.441703</td>\n",
       "    </tr>\n",
       "    <tr>\n",
       "      <th>1</th>\n",
       "      <td>Married-AF-spouse</td>\n",
       "      <td>0.437500</td>\n",
       "    </tr>\n",
       "    <tr>\n",
       "      <th>0</th>\n",
       "      <td>Divorced</td>\n",
       "      <td>0.102376</td>\n",
       "    </tr>\n",
       "    <tr>\n",
       "      <th>6</th>\n",
       "      <td>Widowed</td>\n",
       "      <td>0.085752</td>\n",
       "    </tr>\n",
       "    <tr>\n",
       "      <th>3</th>\n",
       "      <td>Married-spouse-absent</td>\n",
       "      <td>0.074534</td>\n",
       "    </tr>\n",
       "    <tr>\n",
       "      <th>5</th>\n",
       "      <td>Separated</td>\n",
       "      <td>0.061460</td>\n",
       "    </tr>\n",
       "    <tr>\n",
       "      <th>4</th>\n",
       "      <td>Never-married</td>\n",
       "      <td>0.042154</td>\n",
       "    </tr>\n",
       "  </tbody>\n",
       "</table>\n",
       "</div>"
      ],
      "text/plain": [
       "           marital_state  target_income\n",
       "2     Married-civ-spouse       0.441703\n",
       "1      Married-AF-spouse       0.437500\n",
       "0               Divorced       0.102376\n",
       "6                Widowed       0.085752\n",
       "3  Married-spouse-absent       0.074534\n",
       "5              Separated       0.061460\n",
       "4          Never-married       0.042154"
      ]
     },
     "execution_count": 29,
     "metadata": {},
     "output_type": "execute_result"
    }
   ],
   "source": [
    "train_df[['marital_state', 'target_income']].groupby(['marital_state'], as_index=False).mean().sort_values(by='target_income', ascending=False)"
   ]
  },
  {
   "cell_type": "code",
   "execution_count": 30,
   "id": "41cec60e",
   "metadata": {
    "execution": {
     "iopub.execute_input": "2021-12-06T12:30:46.048877Z",
     "iopub.status.busy": "2021-12-06T12:30:46.048210Z",
     "iopub.status.idle": "2021-12-06T12:30:47.808200Z",
     "shell.execute_reply": "2021-12-06T12:30:47.808845Z",
     "shell.execute_reply.started": "2021-12-06T12:28:50.705235Z"
    },
    "papermill": {
     "duration": 1.850364,
     "end_time": "2021-12-06T12:30:47.809116",
     "exception": false,
     "start_time": "2021-12-06T12:30:45.958752",
     "status": "completed"
    },
    "tags": []
   },
   "outputs": [
    {
     "data": {
      "text/plain": [
       "(array([0, 1, 2, 3, 4, 5, 6]),\n",
       " [Text(0, 0, 'Married-civ-spouse'),\n",
       "  Text(1, 0, 'Never-married'),\n",
       "  Text(2, 0, 'Divorced'),\n",
       "  Text(3, 0, 'Widowed'),\n",
       "  Text(4, 0, 'Separated'),\n",
       "  Text(5, 0, 'Married-spouse-absent'),\n",
       "  Text(6, 0, 'Married-AF-spouse')])"
      ]
     },
     "execution_count": 30,
     "metadata": {},
     "output_type": "execute_result"
    },
    {
     "data": {
      "image/png": "[encoded data removed]",
      "text/plain": [
       "<Figure size 947.4x595.44 with 1 Axes>"
      ]
     },
     "metadata": {
      "needs_background": "light"
     },
     "output_type": "display_data"
    }
   ],
   "source": [
    "sns.catplot(x= 'marital_state', y='target_income', kind='bar', hue='status', data = train_df,height=8.27, aspect=11.7/8.27)\n",
    "plt.xticks(fontsize=12, rotation = 90)"
   ]
  },
  {
   "cell_type": "markdown",
   "id": "97b03bcd",
   "metadata": {
    "papermill": {
     "duration": 0.089429,
     "end_time": "2021-12-06T12:30:47.986077",
     "exception": false,
     "start_time": "2021-12-06T12:30:47.896648",
     "status": "completed"
    },
    "tags": []
   },
   "source": [
    "### nationality"
   ]
  },
  {
   "cell_type": "code",
   "execution_count": 31,
   "id": "641b1181",
   "metadata": {
    "execution": {
     "iopub.execute_input": "2021-12-06T12:30:48.165854Z",
     "iopub.status.busy": "2021-12-06T12:30:48.164754Z",
     "iopub.status.idle": "2021-12-06T12:30:48.180518Z",
     "shell.execute_reply": "2021-12-06T12:30:48.181043Z",
     "shell.execute_reply.started": "2021-12-06T12:28:52.566184Z"
    },
    "papermill": {
     "duration": 0.106831,
     "end_time": "2021-12-06T12:30:48.181249",
     "exception": false,
     "start_time": "2021-12-06T12:30:48.074418",
     "status": "completed"
    },
    "tags": []
   },
   "outputs": [
    {
     "data": {
      "text/plain": [
       "array(['France', 'Cambodia', 'Taiwan', 'Yugoslavia', 'Iran', 'India',\n",
       "       'Japan', 'Italy', 'China', 'Germany', 'Philippines', 'Canada',\n",
       "       'Scotland', 'Cuba', 'England', 'US', 'Hong', 'Poland', 'Ireland',\n",
       "       'Thailand', 'Hungary', 'Greece', 'Laos', 'South', 'Ecuador',\n",
       "       'Trinadad&Tobago', 'Jamaica', 'Haiti', 'Puerto-Rico',\n",
       "       'El-Salvador', 'Portugal', 'Vietnam', 'Mexico', 'Columbia',\n",
       "       'Guatemala', 'Nicaragua', 'Honduras', 'Peru',\n",
       "       'Outlying-US(Guam-USVI-etc)', 'Holand-Netherlands',\n",
       "       'Dominican-Republic'], dtype=object)"
      ]
     },
     "execution_count": 31,
     "metadata": {},
     "output_type": "execute_result"
    }
   ],
   "source": [
    "train_df[['nationality', 'target_income']].groupby(['nationality'], as_index=False).mean().sort_values(by='target_income', ascending=False).nationality.to_numpy()"
   ]
  },
  {
   "cell_type": "markdown",
   "id": "f30b3656",
   "metadata": {
    "papermill": {
     "duration": 0.086736,
     "end_time": "2021-12-06T12:30:48.354907",
     "exception": false,
     "start_time": "2021-12-06T12:30:48.268171",
     "status": "completed"
    },
    "tags": []
   },
   "source": [
    "## Numerical versus categorical features"
   ]
  },
  {
   "cell_type": "code",
   "execution_count": 32,
   "id": "295cd2bc",
   "metadata": {
    "execution": {
     "iopub.execute_input": "2021-12-06T12:30:48.541193Z",
     "iopub.status.busy": "2021-12-06T12:30:48.540105Z",
     "iopub.status.idle": "2021-12-06T12:30:48.560943Z",
     "shell.execute_reply": "2021-12-06T12:30:48.561422Z",
     "shell.execute_reply.started": "2021-12-06T12:28:52.589137Z"
    },
    "papermill": {
     "duration": 0.116175,
     "end_time": "2021-12-06T12:30:48.561623",
     "exception": false,
     "start_time": "2021-12-06T12:30:48.445448",
     "status": "completed"
    },
    "tags": []
   },
   "outputs": [
    {
     "data": {
      "text/html": [
       "<div>\n",
       "<style scoped>\n",
       "    .dataframe tbody tr th:only-of-type {\n",
       "        vertical-align: middle;\n",
       "    }\n",
       "\n",
       "    .dataframe tbody tr th {\n",
       "        vertical-align: top;\n",
       "    }\n",
       "\n",
       "    .dataframe thead th {\n",
       "        text-align: right;\n",
       "    }\n",
       "</style>\n",
       "<table border=\"1\" class=\"dataframe\">\n",
       "  <thead>\n",
       "    <tr style=\"text-align: right;\">\n",
       "      <th></th>\n",
       "      <th>job</th>\n",
       "      <th>hrs_per_week</th>\n",
       "    </tr>\n",
       "  </thead>\n",
       "  <tbody>\n",
       "    <tr>\n",
       "      <th>0</th>\n",
       "      <td>Adm-clerical</td>\n",
       "      <td>40.0</td>\n",
       "    </tr>\n",
       "    <tr>\n",
       "      <th>1</th>\n",
       "      <td>Armed-Forces</td>\n",
       "      <td>40.0</td>\n",
       "    </tr>\n",
       "    <tr>\n",
       "      <th>2</th>\n",
       "      <td>Craft-repair</td>\n",
       "      <td>40.0</td>\n",
       "    </tr>\n",
       "    <tr>\n",
       "      <th>3</th>\n",
       "      <td>Exec-managerial</td>\n",
       "      <td>40.0</td>\n",
       "    </tr>\n",
       "    <tr>\n",
       "      <th>4</th>\n",
       "      <td>Farming-fishing</td>\n",
       "      <td>40.0</td>\n",
       "    </tr>\n",
       "    <tr>\n",
       "      <th>5</th>\n",
       "      <td>Handlers-cleaners</td>\n",
       "      <td>40.0</td>\n",
       "    </tr>\n",
       "    <tr>\n",
       "      <th>6</th>\n",
       "      <td>Machine-op-inspct</td>\n",
       "      <td>40.0</td>\n",
       "    </tr>\n",
       "    <tr>\n",
       "      <th>7</th>\n",
       "      <td>Other-service</td>\n",
       "      <td>40.0</td>\n",
       "    </tr>\n",
       "    <tr>\n",
       "      <th>9</th>\n",
       "      <td>Prof-specialty</td>\n",
       "      <td>40.0</td>\n",
       "    </tr>\n",
       "    <tr>\n",
       "      <th>10</th>\n",
       "      <td>Protective-serv</td>\n",
       "      <td>40.0</td>\n",
       "    </tr>\n",
       "    <tr>\n",
       "      <th>11</th>\n",
       "      <td>Sales</td>\n",
       "      <td>40.0</td>\n",
       "    </tr>\n",
       "    <tr>\n",
       "      <th>12</th>\n",
       "      <td>Tech-support</td>\n",
       "      <td>40.0</td>\n",
       "    </tr>\n",
       "    <tr>\n",
       "      <th>13</th>\n",
       "      <td>Transport-moving</td>\n",
       "      <td>40.0</td>\n",
       "    </tr>\n",
       "    <tr>\n",
       "      <th>8</th>\n",
       "      <td>Priv-house-serv</td>\n",
       "      <td>35.0</td>\n",
       "    </tr>\n",
       "  </tbody>\n",
       "</table>\n",
       "</div>"
      ],
      "text/plain": [
       "                  job  hrs_per_week\n",
       "0        Adm-clerical          40.0\n",
       "1        Armed-Forces          40.0\n",
       "2        Craft-repair          40.0\n",
       "3     Exec-managerial          40.0\n",
       "4     Farming-fishing          40.0\n",
       "5   Handlers-cleaners          40.0\n",
       "6   Machine-op-inspct          40.0\n",
       "7       Other-service          40.0\n",
       "9      Prof-specialty          40.0\n",
       "10    Protective-serv          40.0\n",
       "11              Sales          40.0\n",
       "12       Tech-support          40.0\n",
       "13   Transport-moving          40.0\n",
       "8     Priv-house-serv          35.0"
      ]
     },
     "execution_count": 32,
     "metadata": {},
     "output_type": "execute_result"
    }
   ],
   "source": [
    "train_df[['job', 'hrs_per_week']].groupby(['job'], as_index=False).median().sort_values(by='hrs_per_week', ascending=False)"
   ]
  },
  {
   "cell_type": "code",
   "execution_count": 33,
   "id": "fe0d7479",
   "metadata": {
    "execution": {
     "iopub.execute_input": "2021-12-06T12:30:48.742338Z",
     "iopub.status.busy": "2021-12-06T12:30:48.741334Z",
     "iopub.status.idle": "2021-12-06T12:30:48.761732Z",
     "shell.execute_reply": "2021-12-06T12:30:48.762307Z",
     "shell.execute_reply.started": "2021-12-06T12:28:52.613786Z"
    },
    "papermill": {
     "duration": 0.113357,
     "end_time": "2021-12-06T12:30:48.762505",
     "exception": false,
     "start_time": "2021-12-06T12:30:48.649148",
     "status": "completed"
    },
    "tags": []
   },
   "outputs": [
    {
     "data": {
      "text/html": [
       "<div>\n",
       "<style scoped>\n",
       "    .dataframe tbody tr th:only-of-type {\n",
       "        vertical-align: middle;\n",
       "    }\n",
       "\n",
       "    .dataframe tbody tr th {\n",
       "        vertical-align: top;\n",
       "    }\n",
       "\n",
       "    .dataframe thead th {\n",
       "        text-align: right;\n",
       "    }\n",
       "</style>\n",
       "<table border=\"1\" class=\"dataframe\">\n",
       "  <thead>\n",
       "    <tr style=\"text-align: right;\">\n",
       "      <th></th>\n",
       "      <th>job</th>\n",
       "      <th>total_education_yrs</th>\n",
       "    </tr>\n",
       "  </thead>\n",
       "  <tbody>\n",
       "    <tr>\n",
       "      <th>9</th>\n",
       "      <td>Prof-specialty</td>\n",
       "      <td>13.0</td>\n",
       "    </tr>\n",
       "    <tr>\n",
       "      <th>3</th>\n",
       "      <td>Exec-managerial</td>\n",
       "      <td>12.0</td>\n",
       "    </tr>\n",
       "    <tr>\n",
       "      <th>12</th>\n",
       "      <td>Tech-support</td>\n",
       "      <td>11.0</td>\n",
       "    </tr>\n",
       "    <tr>\n",
       "      <th>0</th>\n",
       "      <td>Adm-clerical</td>\n",
       "      <td>10.0</td>\n",
       "    </tr>\n",
       "    <tr>\n",
       "      <th>10</th>\n",
       "      <td>Protective-serv</td>\n",
       "      <td>10.0</td>\n",
       "    </tr>\n",
       "    <tr>\n",
       "      <th>11</th>\n",
       "      <td>Sales</td>\n",
       "      <td>10.0</td>\n",
       "    </tr>\n",
       "    <tr>\n",
       "      <th>1</th>\n",
       "      <td>Armed-Forces</td>\n",
       "      <td>9.0</td>\n",
       "    </tr>\n",
       "    <tr>\n",
       "      <th>2</th>\n",
       "      <td>Craft-repair</td>\n",
       "      <td>9.0</td>\n",
       "    </tr>\n",
       "    <tr>\n",
       "      <th>4</th>\n",
       "      <td>Farming-fishing</td>\n",
       "      <td>9.0</td>\n",
       "    </tr>\n",
       "    <tr>\n",
       "      <th>5</th>\n",
       "      <td>Handlers-cleaners</td>\n",
       "      <td>9.0</td>\n",
       "    </tr>\n",
       "    <tr>\n",
       "      <th>6</th>\n",
       "      <td>Machine-op-inspct</td>\n",
       "      <td>9.0</td>\n",
       "    </tr>\n",
       "    <tr>\n",
       "      <th>7</th>\n",
       "      <td>Other-service</td>\n",
       "      <td>9.0</td>\n",
       "    </tr>\n",
       "    <tr>\n",
       "      <th>8</th>\n",
       "      <td>Priv-house-serv</td>\n",
       "      <td>9.0</td>\n",
       "    </tr>\n",
       "    <tr>\n",
       "      <th>13</th>\n",
       "      <td>Transport-moving</td>\n",
       "      <td>9.0</td>\n",
       "    </tr>\n",
       "  </tbody>\n",
       "</table>\n",
       "</div>"
      ],
      "text/plain": [
       "                  job  total_education_yrs\n",
       "9      Prof-specialty                 13.0\n",
       "3     Exec-managerial                 12.0\n",
       "12       Tech-support                 11.0\n",
       "0        Adm-clerical                 10.0\n",
       "10    Protective-serv                 10.0\n",
       "11              Sales                 10.0\n",
       "1        Armed-Forces                  9.0\n",
       "2        Craft-repair                  9.0\n",
       "4     Farming-fishing                  9.0\n",
       "5   Handlers-cleaners                  9.0\n",
       "6   Machine-op-inspct                  9.0\n",
       "7       Other-service                  9.0\n",
       "8     Priv-house-serv                  9.0\n",
       "13   Transport-moving                  9.0"
      ]
     },
     "execution_count": 33,
     "metadata": {},
     "output_type": "execute_result"
    }
   ],
   "source": [
    "train_df[['job', 'total_education_yrs']].groupby(['job'], as_index=False).median().sort_values(by='total_education_yrs', ascending=False)"
   ]
  },
  {
   "cell_type": "code",
   "execution_count": 34,
   "id": "cf9d8e88",
   "metadata": {
    "execution": {
     "iopub.execute_input": "2021-12-06T12:30:48.949945Z",
     "iopub.status.busy": "2021-12-06T12:30:48.948864Z",
     "iopub.status.idle": "2021-12-06T12:30:48.966129Z",
     "shell.execute_reply": "2021-12-06T12:30:48.966780Z",
     "shell.execute_reply.started": "2021-12-06T12:28:52.641337Z"
    },
    "papermill": {
     "duration": 0.112798,
     "end_time": "2021-12-06T12:30:48.966998",
     "exception": false,
     "start_time": "2021-12-06T12:30:48.854200",
     "status": "completed"
    },
    "tags": []
   },
   "outputs": [
    {
     "data": {
      "text/html": [
       "<div>\n",
       "<style scoped>\n",
       "    .dataframe tbody tr th:only-of-type {\n",
       "        vertical-align: middle;\n",
       "    }\n",
       "\n",
       "    .dataframe tbody tr th {\n",
       "        vertical-align: top;\n",
       "    }\n",
       "\n",
       "    .dataframe thead th {\n",
       "        text-align: right;\n",
       "    }\n",
       "</style>\n",
       "<table border=\"1\" class=\"dataframe\">\n",
       "  <thead>\n",
       "    <tr style=\"text-align: right;\">\n",
       "      <th></th>\n",
       "      <th>capital_gain</th>\n",
       "    </tr>\n",
       "    <tr>\n",
       "      <th>job</th>\n",
       "      <th></th>\n",
       "    </tr>\n",
       "  </thead>\n",
       "  <tbody>\n",
       "    <tr>\n",
       "      <th>Exec-managerial</th>\n",
       "      <td>1227.111911</td>\n",
       "    </tr>\n",
       "    <tr>\n",
       "      <th>Prof-specialty</th>\n",
       "      <td>1091.130802</td>\n",
       "    </tr>\n",
       "    <tr>\n",
       "      <th>Sales</th>\n",
       "      <td>658.881579</td>\n",
       "    </tr>\n",
       "    <tr>\n",
       "      <th>Farming-fishing</th>\n",
       "      <td>633.345953</td>\n",
       "    </tr>\n",
       "    <tr>\n",
       "      <th>Tech-support</th>\n",
       "      <td>618.513103</td>\n",
       "    </tr>\n",
       "    <tr>\n",
       "      <th>Protective-serv</th>\n",
       "      <td>462.663968</td>\n",
       "    </tr>\n",
       "    <tr>\n",
       "      <th>Transport-moving</th>\n",
       "      <td>458.928040</td>\n",
       "    </tr>\n",
       "    <tr>\n",
       "      <th>Craft-repair</th>\n",
       "      <td>451.509716</td>\n",
       "    </tr>\n",
       "    <tr>\n",
       "      <th>Adm-clerical</th>\n",
       "      <td>344.932851</td>\n",
       "    </tr>\n",
       "    <tr>\n",
       "      <th>Priv-house-serv</th>\n",
       "      <td>310.090090</td>\n",
       "    </tr>\n",
       "    <tr>\n",
       "      <th>Machine-op-inspct</th>\n",
       "      <td>274.651866</td>\n",
       "    </tr>\n",
       "    <tr>\n",
       "      <th>Handlers-cleaners</th>\n",
       "      <td>212.802103</td>\n",
       "    </tr>\n",
       "    <tr>\n",
       "      <th>Other-service</th>\n",
       "      <td>140.072391</td>\n",
       "    </tr>\n",
       "    <tr>\n",
       "      <th>Armed-Forces</th>\n",
       "      <td>0.000000</td>\n",
       "    </tr>\n",
       "  </tbody>\n",
       "</table>\n",
       "</div>"
      ],
      "text/plain": [
       "                   capital_gain\n",
       "job                            \n",
       "Exec-managerial     1227.111911\n",
       "Prof-specialty      1091.130802\n",
       "Sales                658.881579\n",
       "Farming-fishing      633.345953\n",
       "Tech-support         618.513103\n",
       "Protective-serv      462.663968\n",
       "Transport-moving     458.928040\n",
       "Craft-repair         451.509716\n",
       "Adm-clerical         344.932851\n",
       "Priv-house-serv      310.090090\n",
       "Machine-op-inspct    274.651866\n",
       "Handlers-cleaners    212.802103\n",
       "Other-service        140.072391\n",
       "Armed-Forces           0.000000"
      ]
     },
     "execution_count": 34,
     "metadata": {},
     "output_type": "execute_result"
    }
   ],
   "source": [
    "train_df[['job', 'capital_gain']].groupby(['job']).mean().sort_values(by='capital_gain', ascending=False)"
   ]
  },
  {
   "cell_type": "code",
   "execution_count": 35,
   "id": "48e5f24e",
   "metadata": {
    "execution": {
     "iopub.execute_input": "2021-12-06T12:30:49.153290Z",
     "iopub.status.busy": "2021-12-06T12:30:49.149673Z",
     "iopub.status.idle": "2021-12-06T12:30:49.166909Z",
     "shell.execute_reply": "2021-12-06T12:30:49.167450Z",
     "shell.execute_reply.started": "2021-12-06T12:28:52.663834Z"
    },
    "papermill": {
     "duration": 0.110829,
     "end_time": "2021-12-06T12:30:49.167650",
     "exception": false,
     "start_time": "2021-12-06T12:30:49.056821",
     "status": "completed"
    },
    "tags": []
   },
   "outputs": [
    {
     "data": {
      "text/html": [
       "<div>\n",
       "<style scoped>\n",
       "    .dataframe tbody tr th:only-of-type {\n",
       "        vertical-align: middle;\n",
       "    }\n",
       "\n",
       "    .dataframe tbody tr th {\n",
       "        vertical-align: top;\n",
       "    }\n",
       "\n",
       "    .dataframe thead th {\n",
       "        text-align: right;\n",
       "    }\n",
       "</style>\n",
       "<table border=\"1\" class=\"dataframe\">\n",
       "  <thead>\n",
       "    <tr style=\"text-align: right;\">\n",
       "      <th></th>\n",
       "      <th>work_type</th>\n",
       "      <th>hrs_per_week</th>\n",
       "    </tr>\n",
       "  </thead>\n",
       "  <tbody>\n",
       "    <tr>\n",
       "      <th>4</th>\n",
       "      <td>Self-emp-inc</td>\n",
       "      <td>48.824455</td>\n",
       "    </tr>\n",
       "    <tr>\n",
       "      <th>5</th>\n",
       "      <td>Self-emp-not-inc</td>\n",
       "      <td>44.374150</td>\n",
       "    </tr>\n",
       "    <tr>\n",
       "      <th>0</th>\n",
       "      <td>Federal-gov</td>\n",
       "      <td>41.166895</td>\n",
       "    </tr>\n",
       "    <tr>\n",
       "      <th>1</th>\n",
       "      <td>Local-gov</td>\n",
       "      <td>40.799118</td>\n",
       "    </tr>\n",
       "    <tr>\n",
       "      <th>3</th>\n",
       "      <td>Private</td>\n",
       "      <td>40.176110</td>\n",
       "    </tr>\n",
       "    <tr>\n",
       "      <th>6</th>\n",
       "      <td>State-gov</td>\n",
       "      <td>38.962656</td>\n",
       "    </tr>\n",
       "    <tr>\n",
       "      <th>7</th>\n",
       "      <td>Without-pay</td>\n",
       "      <td>35.100000</td>\n",
       "    </tr>\n",
       "    <tr>\n",
       "      <th>2</th>\n",
       "      <td>Never-worked</td>\n",
       "      <td>31.800000</td>\n",
       "    </tr>\n",
       "  </tbody>\n",
       "</table>\n",
       "</div>"
      ],
      "text/plain": [
       "          work_type  hrs_per_week\n",
       "4      Self-emp-inc     48.824455\n",
       "5  Self-emp-not-inc     44.374150\n",
       "0       Federal-gov     41.166895\n",
       "1         Local-gov     40.799118\n",
       "3           Private     40.176110\n",
       "6         State-gov     38.962656\n",
       "7       Without-pay     35.100000\n",
       "2      Never-worked     31.800000"
      ]
     },
     "execution_count": 35,
     "metadata": {},
     "output_type": "execute_result"
    }
   ],
   "source": [
    "train_df[['work_type', 'hrs_per_week']].groupby(['work_type'], as_index=False).mean().sort_values(by='hrs_per_week', ascending=False)"
   ]
  },
  {
   "cell_type": "code",
   "execution_count": 36,
   "id": "39e1f84f",
   "metadata": {
    "execution": {
     "iopub.execute_input": "2021-12-06T12:30:49.360320Z",
     "iopub.status.busy": "2021-12-06T12:30:49.356437Z",
     "iopub.status.idle": "2021-12-06T12:30:49.371408Z",
     "shell.execute_reply": "2021-12-06T12:30:49.371863Z",
     "shell.execute_reply.started": "2021-12-06T12:28:52.689064Z"
    },
    "papermill": {
     "duration": 0.112651,
     "end_time": "2021-12-06T12:30:49.372080",
     "exception": false,
     "start_time": "2021-12-06T12:30:49.259429",
     "status": "completed"
    },
    "tags": []
   },
   "outputs": [
    {
     "data": {
      "text/html": [
       "<div>\n",
       "<style scoped>\n",
       "    .dataframe tbody tr th:only-of-type {\n",
       "        vertical-align: middle;\n",
       "    }\n",
       "\n",
       "    .dataframe tbody tr th {\n",
       "        vertical-align: top;\n",
       "    }\n",
       "\n",
       "    .dataframe thead th {\n",
       "        text-align: right;\n",
       "    }\n",
       "</style>\n",
       "<table border=\"1\" class=\"dataframe\">\n",
       "  <thead>\n",
       "    <tr style=\"text-align: right;\">\n",
       "      <th></th>\n",
       "      <th>work_type</th>\n",
       "      <th>total_education_yrs</th>\n",
       "    </tr>\n",
       "  </thead>\n",
       "  <tbody>\n",
       "    <tr>\n",
       "      <th>6</th>\n",
       "      <td>State-gov</td>\n",
       "      <td>11.0</td>\n",
       "    </tr>\n",
       "    <tr>\n",
       "      <th>0</th>\n",
       "      <td>Federal-gov</td>\n",
       "      <td>10.0</td>\n",
       "    </tr>\n",
       "    <tr>\n",
       "      <th>1</th>\n",
       "      <td>Local-gov</td>\n",
       "      <td>10.0</td>\n",
       "    </tr>\n",
       "    <tr>\n",
       "      <th>3</th>\n",
       "      <td>Private</td>\n",
       "      <td>10.0</td>\n",
       "    </tr>\n",
       "    <tr>\n",
       "      <th>4</th>\n",
       "      <td>Self-emp-inc</td>\n",
       "      <td>10.0</td>\n",
       "    </tr>\n",
       "    <tr>\n",
       "      <th>5</th>\n",
       "      <td>Self-emp-not-inc</td>\n",
       "      <td>10.0</td>\n",
       "    </tr>\n",
       "    <tr>\n",
       "      <th>2</th>\n",
       "      <td>Never-worked</td>\n",
       "      <td>9.0</td>\n",
       "    </tr>\n",
       "    <tr>\n",
       "      <th>7</th>\n",
       "      <td>Without-pay</td>\n",
       "      <td>9.0</td>\n",
       "    </tr>\n",
       "  </tbody>\n",
       "</table>\n",
       "</div>"
      ],
      "text/plain": [
       "          work_type  total_education_yrs\n",
       "6         State-gov                 11.0\n",
       "0       Federal-gov                 10.0\n",
       "1         Local-gov                 10.0\n",
       "3           Private                 10.0\n",
       "4      Self-emp-inc                 10.0\n",
       "5  Self-emp-not-inc                 10.0\n",
       "2      Never-worked                  9.0\n",
       "7       Without-pay                  9.0"
      ]
     },
     "execution_count": 36,
     "metadata": {},
     "output_type": "execute_result"
    }
   ],
   "source": [
    "train_df[['work_type', 'total_education_yrs']].groupby(['work_type'], as_index=False).median().sort_values(by='total_education_yrs', ascending=False)"
   ]
  },
  {
   "cell_type": "markdown",
   "id": "0d6701f4",
   "metadata": {
    "papermill": {
     "duration": 0.090784,
     "end_time": "2021-12-06T12:30:49.552196",
     "exception": false,
     "start_time": "2021-12-06T12:30:49.461412",
     "status": "completed"
    },
    "tags": []
   },
   "source": [
    "# Feature engineering"
   ]
  },
  {
   "cell_type": "markdown",
   "id": "abc9427d",
   "metadata": {
    "papermill": {
     "duration": 0.089503,
     "end_time": "2021-12-06T12:30:49.731758",
     "exception": false,
     "start_time": "2021-12-06T12:30:49.642255",
     "status": "completed"
    },
    "tags": []
   },
   "source": [
    "## Correcting by dropping features"
   ]
  },
  {
   "cell_type": "code",
   "execution_count": 37,
   "id": "1a4b83ee",
   "metadata": {
    "execution": {
     "iopub.execute_input": "2021-12-06T12:30:49.920474Z",
     "iopub.status.busy": "2021-12-06T12:30:49.919407Z",
     "iopub.status.idle": "2021-12-06T12:30:49.933256Z",
     "shell.execute_reply": "2021-12-06T12:30:49.933829Z",
     "shell.execute_reply.started": "2021-12-06T12:28:52.711797Z"
    },
    "papermill": {
     "duration": 0.112458,
     "end_time": "2021-12-06T12:30:49.934060",
     "exception": false,
     "start_time": "2021-12-06T12:30:49.821602",
     "status": "completed"
    },
    "tags": []
   },
   "outputs": [
    {
     "name": "stdout",
     "output_type": "stream",
     "text": [
      "Before (24884, 15) (7561, 14) (24884, 15) (7561, 14)\n",
      "After (24884, 13) (7561, 12) (24884, 13) (7561, 12)\n"
     ]
    }
   ],
   "source": [
    "print(\"Before\", train_df.shape, test_df.shape, combine[0].shape, combine[1].shape)\n",
    "for dataset in combine:\n",
    "    dataset.drop(['final_weight'], axis=1, inplace=True)\n",
    "    dataset.drop(['education'], axis=1, inplace=True)\n",
    "    #dataset.drop(['nationality'], axis=1, inplace=True)\n",
    "print(\"After\", train_df.shape, test_df.shape, combine[0].shape, combine[1].shape)"
   ]
  },
  {
   "cell_type": "markdown",
   "id": "7112354d",
   "metadata": {
    "papermill": {
     "duration": 0.096052,
     "end_time": "2021-12-06T12:30:50.122839",
     "exception": false,
     "start_time": "2021-12-06T12:30:50.026787",
     "status": "completed"
    },
    "tags": []
   },
   "source": [
    "## Create new feature combining existing features"
   ]
  },
  {
   "cell_type": "markdown",
   "id": "fa709603",
   "metadata": {
    "papermill": {
     "duration": 0.089294,
     "end_time": "2021-12-06T12:30:50.302280",
     "exception": false,
     "start_time": "2021-12-06T12:30:50.212986",
     "status": "completed"
    },
    "tags": []
   },
   "source": [
    "### Create has capital change feature"
   ]
  },
  {
   "cell_type": "code",
   "execution_count": 38,
   "id": "0b82eb17",
   "metadata": {
    "execution": {
     "iopub.execute_input": "2021-12-06T12:30:50.488313Z",
     "iopub.status.busy": "2021-12-06T12:30:50.487247Z",
     "iopub.status.idle": "2021-12-06T12:30:50.495623Z",
     "shell.execute_reply": "2021-12-06T12:30:50.496249Z",
     "shell.execute_reply.started": "2021-12-06T12:28:52.734361Z"
    },
    "papermill": {
     "duration": 0.104616,
     "end_time": "2021-12-06T12:30:50.496439",
     "exception": false,
     "start_time": "2021-12-06T12:30:50.391823",
     "status": "completed"
    },
    "tags": []
   },
   "outputs": [],
   "source": [
    "for dataset in combine:\n",
    "    dataset['has_capital_change'] = abs(dataset['capital_gain'] - dataset['capital_loss']) > 0\n",
    "    dataset['has_capital_change'] = dataset['has_capital_change'].astype(int)"
   ]
  },
  {
   "cell_type": "markdown",
   "id": "889f44e6",
   "metadata": {
    "papermill": {
     "duration": 0.091469,
     "end_time": "2021-12-06T12:30:50.677683",
     "exception": false,
     "start_time": "2021-12-06T12:30:50.586214",
     "status": "completed"
    },
    "tags": []
   },
   "source": [
    "### Create age-band feature"
   ]
  },
  {
   "cell_type": "code",
   "execution_count": 39,
   "id": "a8fa34cb",
   "metadata": {
    "execution": {
     "iopub.execute_input": "2021-12-06T12:30:50.862038Z",
     "iopub.status.busy": "2021-12-06T12:30:50.860977Z",
     "iopub.status.idle": "2021-12-06T12:30:50.864619Z",
     "shell.execute_reply": "2021-12-06T12:30:50.865246Z",
     "shell.execute_reply.started": "2021-12-06T12:28:52.746983Z"
    },
    "papermill": {
     "duration": 0.097759,
     "end_time": "2021-12-06T12:30:50.865437",
     "exception": false,
     "start_time": "2021-12-06T12:30:50.767678",
     "status": "completed"
    },
    "tags": []
   },
   "outputs": [],
   "source": [
    "# for dataset in combine:    \n",
    "#     dataset.loc[(dataset['age'] >16) & (dataset['age'] <= 20), 'age'] = 0\n",
    "#     dataset.loc[(dataset['age'] > 20) & (dataset['age'] <= 37), 'age'] = 1\n",
    "#     dataset.loc[(dataset['age'] > 40) & (dataset['age'] <= 60), 'age'] = 2\n",
    "#     dataset.loc[(dataset['age'] > 60) & (dataset['age'] <= 75), 'age'] = 3\n",
    "#     dataset.loc[(dataset['age'] > 60), 'age'] = 3"
   ]
  },
  {
   "cell_type": "markdown",
   "id": "bb13dc2f",
   "metadata": {
    "papermill": {
     "duration": 0.091364,
     "end_time": "2021-12-06T12:30:51.047819",
     "exception": false,
     "start_time": "2021-12-06T12:30:50.956455",
     "status": "completed"
    },
    "tags": []
   },
   "source": [
    "## Fill missing values"
   ]
  },
  {
   "cell_type": "markdown",
   "id": "22557d91",
   "metadata": {
    "papermill": {
     "duration": 0.090786,
     "end_time": "2021-12-06T12:30:51.228894",
     "exception": false,
     "start_time": "2021-12-06T12:30:51.138108",
     "status": "completed"
    },
    "tags": []
   },
   "source": [
    "### Fill job column by the mode of total_education_years column"
   ]
  },
  {
   "cell_type": "code",
   "execution_count": 40,
   "id": "fd662cfc",
   "metadata": {
    "execution": {
     "iopub.execute_input": "2021-12-06T12:30:51.414832Z",
     "iopub.status.busy": "2021-12-06T12:30:51.414138Z",
     "iopub.status.idle": "2021-12-06T12:30:51.433089Z",
     "shell.execute_reply": "2021-12-06T12:30:51.432539Z",
     "shell.execute_reply.started": "2021-12-06T12:28:52.755058Z"
    },
    "papermill": {
     "duration": 0.114597,
     "end_time": "2021-12-06T12:30:51.433246",
     "exception": false,
     "start_time": "2021-12-06T12:30:51.318649",
     "status": "completed"
    },
    "tags": []
   },
   "outputs": [
    {
     "data": {
      "text/plain": [
       "total_education_yrs\n",
       "1      Other-service\n",
       "2      Other-service\n",
       "3      Other-service\n",
       "4       Craft-repair\n",
       "5       Craft-repair\n",
       "6      Other-service\n",
       "7      Other-service\n",
       "8      Other-service\n",
       "9       Craft-repair\n",
       "10      Adm-clerical\n",
       "11      Craft-repair\n",
       "12      Adm-clerical\n",
       "13    Prof-specialty\n",
       "14    Prof-specialty\n",
       "15    Prof-specialty\n",
       "16    Prof-specialty\n",
       "dtype: object"
      ]
     },
     "execution_count": 40,
     "metadata": {},
     "output_type": "execute_result"
    }
   ],
   "source": [
    "train_df.groupby('total_education_yrs').apply(lambda df: df['job'].mode()[0])"
   ]
  },
  {
   "cell_type": "code",
   "execution_count": 41,
   "id": "78a92456",
   "metadata": {
    "execution": {
     "iopub.execute_input": "2021-12-06T12:30:51.617284Z",
     "iopub.status.busy": "2021-12-06T12:30:51.616553Z",
     "iopub.status.idle": "2021-12-06T12:30:53.426308Z",
     "shell.execute_reply": "2021-12-06T12:30:53.426855Z",
     "shell.execute_reply.started": "2021-12-06T12:28:52.786960Z"
    },
    "papermill": {
     "duration": 1.903155,
     "end_time": "2021-12-06T12:30:53.427051",
     "exception": false,
     "start_time": "2021-12-06T12:30:51.523896",
     "status": "completed"
    },
    "tags": []
   },
   "outputs": [
    {
     "name": "stderr",
     "output_type": "stream",
     "text": [
      "/opt/conda/lib/python3.7/site-packages/pandas/core/indexing.py:1732: SettingWithCopyWarning: \n",
      "A value is trying to be set on a copy of a slice from a DataFrame\n",
      "\n",
      "See the caveats in the documentation: https://pandas.pydata.org/pandas-docs/stable/user_guide/indexing.html#returning-a-view-versus-a-copy\n",
      "  self._setitem_single_block(indexer, value, name)\n"
     ]
    }
   ],
   "source": [
    "for dataset in combine:\n",
    "    index_nan_job = list(dataset[\"job\"][dataset[\"job\"].isnull()].index)\n",
    "    for nan_idx in index_nan_job:\n",
    "        if dataset.iloc[nan_idx]['total_education_yrs'] in [1,2,3,6,7,8]:\n",
    "            dataset['job'].iloc[nan_idx] = 'Other-service'\n",
    "        if dataset.iloc[nan_idx]['total_education_yrs'] in [4,5,9,11]:\n",
    "            dataset['job'].iloc[nan_idx] = 'Craft-repair'\n",
    "        if dataset.iloc[nan_idx]['total_education_yrs'] in [10,12]:\n",
    "            dataset['job'].iloc[nan_idx] = 'Adm-clerical'\n",
    "        if dataset.iloc[nan_idx]['total_education_yrs'] in [13,14,15,16]:\n",
    "            dataset['job'].iloc[nan_idx] = 'Prof-specialty'"
   ]
  },
  {
   "cell_type": "markdown",
   "id": "561a7f16",
   "metadata": {
    "papermill": {
     "duration": 0.089561,
     "end_time": "2021-12-06T12:30:53.606270",
     "exception": false,
     "start_time": "2021-12-06T12:30:53.516709",
     "status": "completed"
    },
    "tags": []
   },
   "source": [
    "### Create mean_capital_gain group by job feature"
   ]
  },
  {
   "cell_type": "code",
   "execution_count": 42,
   "id": "6b8e25f9",
   "metadata": {
    "execution": {
     "iopub.execute_input": "2021-12-06T12:30:53.789253Z",
     "iopub.status.busy": "2021-12-06T12:30:53.788546Z",
     "iopub.status.idle": "2021-12-06T12:30:53.822358Z",
     "shell.execute_reply": "2021-12-06T12:30:53.821796Z",
     "shell.execute_reply.started": "2021-12-06T12:28:54.622566Z"
    },
    "papermill": {
     "duration": 0.126742,
     "end_time": "2021-12-06T12:30:53.822514",
     "exception": false,
     "start_time": "2021-12-06T12:30:53.695772",
     "status": "completed"
    },
    "tags": []
   },
   "outputs": [],
   "source": [
    "temp = train_df.groupby('job')['capital_gain'].agg(['mean']).rename({'mean':'capital_gain_job_mean'},axis=1)\n",
    "train_df = pd.merge(train_df,temp, on='job', how='left')\n",
    "test_df = pd.merge(test_df, temp, on='job', how='left')\n",
    "combine = [train_df, test_df]"
   ]
  },
  {
   "cell_type": "code",
   "execution_count": 43,
   "id": "9bbdf395",
   "metadata": {
    "execution": {
     "iopub.execute_input": "2021-12-06T12:30:54.006969Z",
     "iopub.status.busy": "2021-12-06T12:30:54.006312Z",
     "iopub.status.idle": "2021-12-06T12:30:54.043788Z",
     "shell.execute_reply": "2021-12-06T12:30:54.044557Z",
     "shell.execute_reply.started": "2021-12-06T12:28:54.662238Z"
    },
    "papermill": {
     "duration": 0.132437,
     "end_time": "2021-12-06T12:30:54.044766",
     "exception": false,
     "start_time": "2021-12-06T12:30:53.912329",
     "status": "completed"
    },
    "tags": []
   },
   "outputs": [
    {
     "name": "stdout",
     "output_type": "stream",
     "text": [
      "Train columns with null values:\n",
      " age                         0\n",
      "work_type                1377\n",
      "total_education_yrs         0\n",
      "marital_state               0\n",
      "job                         0\n",
      "status                      0\n",
      "ethnicity                   0\n",
      "sex                         0\n",
      "capital_gain                0\n",
      "capital_loss                0\n",
      "hrs_per_week                0\n",
      "nationality               436\n",
      "target_income               0\n",
      "has_capital_change          0\n",
      "capital_gain_job_mean       0\n",
      "dtype: int64\n",
      "----------------------------------------\n",
      "Test/Validation columns with null values:\n",
      " age                        0\n",
      "work_type                457\n",
      "total_education_yrs        0\n",
      "marital_state              0\n",
      "job                        0\n",
      "status                     0\n",
      "ethnicity                  0\n",
      "sex                        0\n",
      "capital_gain               0\n",
      "capital_loss               0\n",
      "hrs_per_week               0\n",
      "nationality              140\n",
      "has_capital_change         0\n",
      "capital_gain_job_mean      0\n",
      "dtype: int64\n"
     ]
    }
   ],
   "source": [
    "print('Train columns with null values:\\n', train_df.isnull().sum())\n",
    "print(\"-\"*40)\n",
    "print('Test/Validation columns with null values:\\n', test_df.isnull().sum())"
   ]
  },
  {
   "cell_type": "markdown",
   "id": "f5edd4f1",
   "metadata": {
    "papermill": {
     "duration": 0.0913,
     "end_time": "2021-12-06T12:30:54.258423",
     "exception": false,
     "start_time": "2021-12-06T12:30:54.167123",
     "status": "completed"
    },
    "tags": []
   },
   "source": [
    "### Other categorical features"
   ]
  },
  {
   "cell_type": "code",
   "execution_count": 44,
   "id": "e344a18a",
   "metadata": {
    "execution": {
     "iopub.execute_input": "2021-12-06T12:30:54.448093Z",
     "iopub.status.busy": "2021-12-06T12:30:54.447406Z",
     "iopub.status.idle": "2021-12-06T12:30:54.499475Z",
     "shell.execute_reply": "2021-12-06T12:30:54.500214Z",
     "shell.execute_reply.started": "2021-12-06T12:28:54.705846Z"
    },
    "papermill": {
     "duration": 0.150682,
     "end_time": "2021-12-06T12:30:54.500419",
     "exception": false,
     "start_time": "2021-12-06T12:30:54.349737",
     "status": "completed"
    },
    "tags": []
   },
   "outputs": [
    {
     "name": "stdout",
     "output_type": "stream",
     "text": [
      "age                      0\n",
      "work_type                0\n",
      "total_education_yrs      0\n",
      "marital_state            0\n",
      "job                      0\n",
      "status                   0\n",
      "ethnicity                0\n",
      "sex                      0\n",
      "capital_gain             0\n",
      "capital_loss             0\n",
      "hrs_per_week             0\n",
      "nationality              0\n",
      "target_income            0\n",
      "has_capital_change       0\n",
      "capital_gain_job_mean    0\n",
      "dtype: int64\n",
      "------------------------------\n",
      "age                      0\n",
      "work_type                0\n",
      "total_education_yrs      0\n",
      "marital_state            0\n",
      "job                      0\n",
      "status                   0\n",
      "ethnicity                0\n",
      "sex                      0\n",
      "capital_gain             0\n",
      "capital_loss             0\n",
      "hrs_per_week             0\n",
      "nationality              0\n",
      "has_capital_change       0\n",
      "capital_gain_job_mean    0\n",
      "dtype: int64\n"
     ]
    }
   ],
   "source": [
    "cat_cols = ['work_type', 'nationality']\n",
    "for col in cat_cols:\n",
    "    col_mode = train_df[col].mode()[0]\n",
    "    for dataset in combine:\n",
    "        dataset[col].fillna(col_mode, inplace=True)\n",
    "print(train_df.isnull().sum())\n",
    "print(\"-\"*30)\n",
    "print(test_df.isnull().sum())"
   ]
  },
  {
   "cell_type": "markdown",
   "id": "b28297b4",
   "metadata": {
    "papermill": {
     "duration": 0.091015,
     "end_time": "2021-12-06T12:30:54.683153",
     "exception": false,
     "start_time": "2021-12-06T12:30:54.592138",
     "status": "completed"
    },
    "tags": []
   },
   "source": [
    "### Create job_worktype feature"
   ]
  },
  {
   "cell_type": "code",
   "execution_count": 45,
   "id": "00a61e1e",
   "metadata": {
    "execution": {
     "iopub.execute_input": "2021-12-06T12:30:54.870917Z",
     "iopub.status.busy": "2021-12-06T12:30:54.870241Z",
     "iopub.status.idle": "2021-12-06T12:30:54.887836Z",
     "shell.execute_reply": "2021-12-06T12:30:54.888440Z",
     "shell.execute_reply.started": "2021-12-06T12:28:54.770756Z"
    },
    "papermill": {
     "duration": 0.112448,
     "end_time": "2021-12-06T12:30:54.888638",
     "exception": false,
     "start_time": "2021-12-06T12:30:54.776190",
     "status": "completed"
    },
    "tags": []
   },
   "outputs": [],
   "source": [
    "train_df['job_worktype'] = train_df['job'].astype(str)+ '_' + train_df['work_type'].astype(str)\n",
    "test_df['job_worktype'] = test_df['job'].astype(str)+ '_' + test_df['work_type'].astype(str)"
   ]
  },
  {
   "cell_type": "markdown",
   "id": "51e0ca67",
   "metadata": {
    "papermill": {
     "duration": 0.093167,
     "end_time": "2021-12-06T12:30:55.075161",
     "exception": false,
     "start_time": "2021-12-06T12:30:54.981994",
     "status": "completed"
    },
    "tags": []
   },
   "source": [
    "## Encode categorical features"
   ]
  },
  {
   "cell_type": "markdown",
   "id": "036c2991",
   "metadata": {
    "papermill": {
     "duration": 0.093992,
     "end_time": "2021-12-06T12:30:55.263807",
     "exception": false,
     "start_time": "2021-12-06T12:30:55.169815",
     "status": "completed"
    },
    "tags": []
   },
   "source": [
    "### Encode nationality feature"
   ]
  },
  {
   "cell_type": "code",
   "execution_count": 46,
   "id": "8f94172b",
   "metadata": {
    "execution": {
     "iopub.execute_input": "2021-12-06T12:30:55.451293Z",
     "iopub.status.busy": "2021-12-06T12:30:55.450448Z",
     "iopub.status.idle": "2021-12-06T12:30:55.829973Z",
     "shell.execute_reply": "2021-12-06T12:30:55.829319Z",
     "shell.execute_reply.started": "2021-12-06T12:28:54.802378Z"
    },
    "papermill": {
     "duration": 0.474613,
     "end_time": "2021-12-06T12:30:55.830156",
     "exception": false,
     "start_time": "2021-12-06T12:30:55.355543",
     "status": "completed"
    },
    "tags": []
   },
   "outputs": [],
   "source": [
    "group_1 = np.array(['France', 'Cambodia', 'Taiwan', 'Yugoslavia', 'Iran', 'India',\n",
    "       'Japan'])\n",
    "group_2 = np.array(['Italy', 'China', 'Germany', 'Philippines', 'Canada',\n",
    "       'Scotland', 'Cuba', 'England', 'US', 'Hong', 'Poland', 'Ireland'])\n",
    "group_3 = np.array(['Thailand', 'Hungary', 'Greece', 'Laos', 'South', 'Ecuador',\n",
    "       'Trinadad&Tobago', 'Jamaica', 'Haiti', 'Puerto-Rico',\n",
    "       'El-Salvador', 'Portugal', 'Vietnam', 'Mexico', 'Columbia',\n",
    "       'Guatemala', 'Nicaragua', 'Honduras', 'Peru',\n",
    "       'Outlying-US(Guam-USVI-etc)', 'Holand-Netherlands',\n",
    "       'Dominican-Republic'])\n",
    "def nationality_to_numeric(nationality):\n",
    "    if nationality in group_1:\n",
    "        return 0\n",
    "    if nationality in group_2:\n",
    "        return 1\n",
    "    if nationality in group_3:\n",
    "        return 2\n",
    "for dataset in combine:\n",
    "    dataset['nationality'] = dataset['nationality'].apply(lambda nationality : nationality_to_numeric(nationality))"
   ]
  },
  {
   "cell_type": "markdown",
   "id": "ed38cf23",
   "metadata": {
    "papermill": {
     "duration": 0.093858,
     "end_time": "2021-12-06T12:30:56.016133",
     "exception": false,
     "start_time": "2021-12-06T12:30:55.922275",
     "status": "completed"
    },
    "tags": []
   },
   "source": [
    "# Prepare train and test data"
   ]
  },
  {
   "cell_type": "code",
   "execution_count": 47,
   "id": "42e93141",
   "metadata": {
    "execution": {
     "iopub.execute_input": "2021-12-06T12:30:56.202789Z",
     "iopub.status.busy": "2021-12-06T12:30:56.202009Z",
     "iopub.status.idle": "2021-12-06T12:30:56.215751Z",
     "shell.execute_reply": "2021-12-06T12:30:56.216336Z",
     "shell.execute_reply.started": "2021-12-06T12:28:55.179456Z"
    },
    "papermill": {
     "duration": 0.108878,
     "end_time": "2021-12-06T12:30:56.216538",
     "exception": false,
     "start_time": "2021-12-06T12:30:56.107660",
     "status": "completed"
    },
    "tags": []
   },
   "outputs": [],
   "source": [
    "X_train = train_df.drop(['target_income'], axis=1)\n",
    "y_train = train_df['target_income'].copy()\n",
    "X_test = test_df.copy()"
   ]
  },
  {
   "cell_type": "code",
   "execution_count": 48,
   "id": "caf4d91d",
   "metadata": {
    "execution": {
     "iopub.execute_input": "2021-12-06T12:30:56.419895Z",
     "iopub.status.busy": "2021-12-06T12:30:56.419190Z",
     "iopub.status.idle": "2021-12-06T12:30:56.422741Z",
     "shell.execute_reply": "2021-12-06T12:30:56.422110Z",
     "shell.execute_reply.started": "2021-12-06T12:28:55.199314Z"
    },
    "papermill": {
     "duration": 0.112499,
     "end_time": "2021-12-06T12:30:56.422890",
     "exception": false,
     "start_time": "2021-12-06T12:30:56.310391",
     "status": "completed"
    },
    "tags": []
   },
   "outputs": [
    {
     "data": {
      "text/html": [
       "<div>\n",
       "<style scoped>\n",
       "    .dataframe tbody tr th:only-of-type {\n",
       "        vertical-align: middle;\n",
       "    }\n",
       "\n",
       "    .dataframe tbody tr th {\n",
       "        vertical-align: top;\n",
       "    }\n",
       "\n",
       "    .dataframe thead th {\n",
       "        text-align: right;\n",
       "    }\n",
       "</style>\n",
       "<table border=\"1\" class=\"dataframe\">\n",
       "  <thead>\n",
       "    <tr style=\"text-align: right;\">\n",
       "      <th></th>\n",
       "      <th>age</th>\n",
       "      <th>work_type</th>\n",
       "      <th>total_education_yrs</th>\n",
       "      <th>marital_state</th>\n",
       "      <th>job</th>\n",
       "      <th>status</th>\n",
       "      <th>ethnicity</th>\n",
       "      <th>sex</th>\n",
       "      <th>capital_gain</th>\n",
       "      <th>capital_loss</th>\n",
       "      <th>hrs_per_week</th>\n",
       "      <th>nationality</th>\n",
       "      <th>has_capital_change</th>\n",
       "      <th>capital_gain_job_mean</th>\n",
       "      <th>job_worktype</th>\n",
       "    </tr>\n",
       "  </thead>\n",
       "  <tbody>\n",
       "    <tr>\n",
       "      <th>0</th>\n",
       "      <td>45</td>\n",
       "      <td>Private</td>\n",
       "      <td>9</td>\n",
       "      <td>Married-civ-spouse</td>\n",
       "      <td>Craft-repair</td>\n",
       "      <td>Husband</td>\n",
       "      <td>White</td>\n",
       "      <td>M</td>\n",
       "      <td>0</td>\n",
       "      <td>0</td>\n",
       "      <td>40</td>\n",
       "      <td>1</td>\n",
       "      <td>0</td>\n",
       "      <td>423.777444</td>\n",
       "      <td>Craft-repair_Private</td>\n",
       "    </tr>\n",
       "    <tr>\n",
       "      <th>1</th>\n",
       "      <td>23</td>\n",
       "      <td>Private</td>\n",
       "      <td>10</td>\n",
       "      <td>Never-married</td>\n",
       "      <td>Handlers-cleaners</td>\n",
       "      <td>Own-child</td>\n",
       "      <td>White</td>\n",
       "      <td>M</td>\n",
       "      <td>0</td>\n",
       "      <td>0</td>\n",
       "      <td>30</td>\n",
       "      <td>1</td>\n",
       "      <td>0</td>\n",
       "      <td>212.802103</td>\n",
       "      <td>Handlers-cleaners_Private</td>\n",
       "    </tr>\n",
       "    <tr>\n",
       "      <th>2</th>\n",
       "      <td>22</td>\n",
       "      <td>Private</td>\n",
       "      <td>10</td>\n",
       "      <td>Never-married</td>\n",
       "      <td>Prof-specialty</td>\n",
       "      <td>Other-relative</td>\n",
       "      <td>Asian-Pac-Islander</td>\n",
       "      <td>F</td>\n",
       "      <td>0</td>\n",
       "      <td>0</td>\n",
       "      <td>20</td>\n",
       "      <td>2</td>\n",
       "      <td>0</td>\n",
       "      <td>1112.002133</td>\n",
       "      <td>Prof-specialty_Private</td>\n",
       "    </tr>\n",
       "    <tr>\n",
       "      <th>3</th>\n",
       "      <td>27</td>\n",
       "      <td>Private</td>\n",
       "      <td>15</td>\n",
       "      <td>Never-married</td>\n",
       "      <td>Prof-specialty</td>\n",
       "      <td>Own-child</td>\n",
       "      <td>Asian-Pac-Islander</td>\n",
       "      <td>M</td>\n",
       "      <td>0</td>\n",
       "      <td>0</td>\n",
       "      <td>40</td>\n",
       "      <td>1</td>\n",
       "      <td>0</td>\n",
       "      <td>1112.002133</td>\n",
       "      <td>Prof-specialty_Private</td>\n",
       "    </tr>\n",
       "    <tr>\n",
       "      <th>4</th>\n",
       "      <td>18</td>\n",
       "      <td>Private</td>\n",
       "      <td>7</td>\n",
       "      <td>Never-married</td>\n",
       "      <td>Sales</td>\n",
       "      <td>Own-child</td>\n",
       "      <td>White</td>\n",
       "      <td>F</td>\n",
       "      <td>0</td>\n",
       "      <td>0</td>\n",
       "      <td>20</td>\n",
       "      <td>1</td>\n",
       "      <td>0</td>\n",
       "      <td>658.881579</td>\n",
       "      <td>Sales_Private</td>\n",
       "    </tr>\n",
       "  </tbody>\n",
       "</table>\n",
       "</div>"
      ],
      "text/plain": [
       "   age work_type  total_education_yrs       marital_state                job  \\\n",
       "0   45   Private                    9  Married-civ-spouse       Craft-repair   \n",
       "1   23   Private                   10       Never-married  Handlers-cleaners   \n",
       "2   22   Private                   10       Never-married     Prof-specialty   \n",
       "3   27   Private                   15       Never-married     Prof-specialty   \n",
       "4   18   Private                    7       Never-married              Sales   \n",
       "\n",
       "           status           ethnicity sex  capital_gain  capital_loss  \\\n",
       "0         Husband               White   M             0             0   \n",
       "1       Own-child               White   M             0             0   \n",
       "2  Other-relative  Asian-Pac-Islander   F             0             0   \n",
       "3       Own-child  Asian-Pac-Islander   M             0             0   \n",
       "4       Own-child               White   F             0             0   \n",
       "\n",
       "   hrs_per_week  nationality  has_capital_change  capital_gain_job_mean  \\\n",
       "0            40            1                   0             423.777444   \n",
       "1            30            1                   0             212.802103   \n",
       "2            20            2                   0            1112.002133   \n",
       "3            40            1                   0            1112.002133   \n",
       "4            20            1                   0             658.881579   \n",
       "\n",
       "                job_worktype  \n",
       "0       Craft-repair_Private  \n",
       "1  Handlers-cleaners_Private  \n",
       "2     Prof-specialty_Private  \n",
       "3     Prof-specialty_Private  \n",
       "4              Sales_Private  "
      ]
     },
     "execution_count": 48,
     "metadata": {},
     "output_type": "execute_result"
    }
   ],
   "source": [
    "X_train.head()"
   ]
  },
  {
   "cell_type": "code",
   "execution_count": 49,
   "id": "f1c14226",
   "metadata": {
    "execution": {
     "iopub.execute_input": "2021-12-06T12:30:56.624787Z",
     "iopub.status.busy": "2021-12-06T12:30:56.624108Z",
     "iopub.status.idle": "2021-12-06T12:30:56.626906Z",
     "shell.execute_reply": "2021-12-06T12:30:56.627532Z",
     "shell.execute_reply.started": "2021-12-06T12:28:55.222681Z"
    },
    "papermill": {
     "duration": 0.112379,
     "end_time": "2021-12-06T12:30:56.627726",
     "exception": false,
     "start_time": "2021-12-06T12:30:56.515347",
     "status": "completed"
    },
    "tags": []
   },
   "outputs": [
    {
     "data": {
      "text/html": [
       "<div>\n",
       "<style scoped>\n",
       "    .dataframe tbody tr th:only-of-type {\n",
       "        vertical-align: middle;\n",
       "    }\n",
       "\n",
       "    .dataframe tbody tr th {\n",
       "        vertical-align: top;\n",
       "    }\n",
       "\n",
       "    .dataframe thead th {\n",
       "        text-align: right;\n",
       "    }\n",
       "</style>\n",
       "<table border=\"1\" class=\"dataframe\">\n",
       "  <thead>\n",
       "    <tr style=\"text-align: right;\">\n",
       "      <th></th>\n",
       "      <th>age</th>\n",
       "      <th>work_type</th>\n",
       "      <th>total_education_yrs</th>\n",
       "      <th>marital_state</th>\n",
       "      <th>job</th>\n",
       "      <th>status</th>\n",
       "      <th>ethnicity</th>\n",
       "      <th>sex</th>\n",
       "      <th>capital_gain</th>\n",
       "      <th>capital_loss</th>\n",
       "      <th>hrs_per_week</th>\n",
       "      <th>nationality</th>\n",
       "      <th>has_capital_change</th>\n",
       "      <th>capital_gain_job_mean</th>\n",
       "      <th>job_worktype</th>\n",
       "    </tr>\n",
       "  </thead>\n",
       "  <tbody>\n",
       "    <tr>\n",
       "      <th>0</th>\n",
       "      <td>59</td>\n",
       "      <td>Self-emp-not-inc</td>\n",
       "      <td>15</td>\n",
       "      <td>Married-civ-spouse</td>\n",
       "      <td>Sales</td>\n",
       "      <td>Husband</td>\n",
       "      <td>White</td>\n",
       "      <td>M</td>\n",
       "      <td>0</td>\n",
       "      <td>0</td>\n",
       "      <td>25</td>\n",
       "      <td>1</td>\n",
       "      <td>0</td>\n",
       "      <td>658.881579</td>\n",
       "      <td>Sales_Self-emp-not-inc</td>\n",
       "    </tr>\n",
       "    <tr>\n",
       "      <th>1</th>\n",
       "      <td>41</td>\n",
       "      <td>Private</td>\n",
       "      <td>9</td>\n",
       "      <td>Married-civ-spouse</td>\n",
       "      <td>Craft-repair</td>\n",
       "      <td>Husband</td>\n",
       "      <td>White</td>\n",
       "      <td>M</td>\n",
       "      <td>0</td>\n",
       "      <td>0</td>\n",
       "      <td>40</td>\n",
       "      <td>1</td>\n",
       "      <td>0</td>\n",
       "      <td>423.777444</td>\n",
       "      <td>Craft-repair_Private</td>\n",
       "    </tr>\n",
       "    <tr>\n",
       "      <th>2</th>\n",
       "      <td>66</td>\n",
       "      <td>Self-emp-not-inc</td>\n",
       "      <td>4</td>\n",
       "      <td>Widowed</td>\n",
       "      <td>Farming-fishing</td>\n",
       "      <td>Unmarried</td>\n",
       "      <td>White</td>\n",
       "      <td>M</td>\n",
       "      <td>0</td>\n",
       "      <td>0</td>\n",
       "      <td>50</td>\n",
       "      <td>1</td>\n",
       "      <td>0</td>\n",
       "      <td>633.345953</td>\n",
       "      <td>Farming-fishing_Self-emp-not-inc</td>\n",
       "    </tr>\n",
       "    <tr>\n",
       "      <th>3</th>\n",
       "      <td>29</td>\n",
       "      <td>Private</td>\n",
       "      <td>11</td>\n",
       "      <td>Never-married</td>\n",
       "      <td>Sales</td>\n",
       "      <td>Not-in-family</td>\n",
       "      <td>Black</td>\n",
       "      <td>M</td>\n",
       "      <td>0</td>\n",
       "      <td>0</td>\n",
       "      <td>45</td>\n",
       "      <td>1</td>\n",
       "      <td>0</td>\n",
       "      <td>658.881579</td>\n",
       "      <td>Sales_Private</td>\n",
       "    </tr>\n",
       "    <tr>\n",
       "      <th>4</th>\n",
       "      <td>35</td>\n",
       "      <td>Private</td>\n",
       "      <td>13</td>\n",
       "      <td>Married-civ-spouse</td>\n",
       "      <td>Exec-managerial</td>\n",
       "      <td>Husband</td>\n",
       "      <td>White</td>\n",
       "      <td>M</td>\n",
       "      <td>0</td>\n",
       "      <td>1848</td>\n",
       "      <td>70</td>\n",
       "      <td>1</td>\n",
       "      <td>1</td>\n",
       "      <td>1227.111911</td>\n",
       "      <td>Exec-managerial_Private</td>\n",
       "    </tr>\n",
       "  </tbody>\n",
       "</table>\n",
       "</div>"
      ],
      "text/plain": [
       "   age         work_type  total_education_yrs       marital_state  \\\n",
       "0   59  Self-emp-not-inc                   15  Married-civ-spouse   \n",
       "1   41           Private                    9  Married-civ-spouse   \n",
       "2   66  Self-emp-not-inc                    4             Widowed   \n",
       "3   29           Private                   11       Never-married   \n",
       "4   35           Private                   13  Married-civ-spouse   \n",
       "\n",
       "               job         status ethnicity sex  capital_gain  capital_loss  \\\n",
       "0            Sales        Husband     White   M             0             0   \n",
       "1     Craft-repair        Husband     White   M             0             0   \n",
       "2  Farming-fishing      Unmarried     White   M             0             0   \n",
       "3            Sales  Not-in-family     Black   M             0             0   \n",
       "4  Exec-managerial        Husband     White   M             0          1848   \n",
       "\n",
       "   hrs_per_week  nationality  has_capital_change  capital_gain_job_mean  \\\n",
       "0            25            1                   0             658.881579   \n",
       "1            40            1                   0             423.777444   \n",
       "2            50            1                   0             633.345953   \n",
       "3            45            1                   0             658.881579   \n",
       "4            70            1                   1            1227.111911   \n",
       "\n",
       "                       job_worktype  \n",
       "0            Sales_Self-emp-not-inc  \n",
       "1              Craft-repair_Private  \n",
       "2  Farming-fishing_Self-emp-not-inc  \n",
       "3                     Sales_Private  \n",
       "4           Exec-managerial_Private  "
      ]
     },
     "execution_count": 49,
     "metadata": {},
     "output_type": "execute_result"
    }
   ],
   "source": [
    "X_test.head()"
   ]
  },
  {
   "cell_type": "markdown",
   "id": "6c0bc5d9",
   "metadata": {
    "papermill": {
     "duration": 0.092865,
     "end_time": "2021-12-06T12:30:56.813812",
     "exception": false,
     "start_time": "2021-12-06T12:30:56.720947",
     "status": "completed"
    },
    "tags": []
   },
   "source": [
    "## Encode categorical features"
   ]
  },
  {
   "cell_type": "markdown",
   "id": "4b4e3e72",
   "metadata": {
    "papermill": {
     "duration": 0.096045,
     "end_time": "2021-12-06T12:30:57.003265",
     "exception": false,
     "start_time": "2021-12-06T12:30:56.907220",
     "status": "completed"
    },
    "tags": []
   },
   "source": [
    "### Label encoder"
   ]
  },
  {
   "cell_type": "code",
   "execution_count": 50,
   "id": "11fbffba",
   "metadata": {
    "execution": {
     "iopub.execute_input": "2021-12-06T12:30:57.197012Z",
     "iopub.status.busy": "2021-12-06T12:30:57.196104Z",
     "iopub.status.idle": "2021-12-06T12:30:57.419648Z",
     "shell.execute_reply": "2021-12-06T12:30:57.418729Z",
     "shell.execute_reply.started": "2021-12-06T12:28:55.245822Z"
    },
    "papermill": {
     "duration": 0.322638,
     "end_time": "2021-12-06T12:30:57.419856",
     "exception": false,
     "start_time": "2021-12-06T12:30:57.097218",
     "status": "completed"
    },
    "tags": []
   },
   "outputs": [
    {
     "name": "stdout",
     "output_type": "stream",
     "text": [
      "['work_type', 'marital_state', 'job', 'status', 'ethnicity', 'sex', 'job_worktype']\n"
     ]
    }
   ],
   "source": [
    "from sklearn import preprocessing\n",
    "categorical = [col for col in X_train.columns if X_train[col].dtype == 'O']\n",
    "print(categorical)\n",
    "for feature in categorical:\n",
    "        le = preprocessing.LabelEncoder()\n",
    "        df = pd.concat([X_train[feature],X_test[feature]],axis=0)\n",
    "        # PERFORM FEATURE ENGINEERING HERE\n",
    "        df = le.fit_transform(df)\n",
    "        X_train[feature] = df[:len(X_train)]\n",
    "        X_test[feature] = df[len(X_train):]\n",
    "        #X_train[feature] = le.fit_transform(X_train[feature])\n",
    "        #X_test[feature] = le.transform(X_test[feature])"
   ]
  },
  {
   "cell_type": "markdown",
   "id": "7e409352",
   "metadata": {
    "papermill": {
     "duration": 0.092546,
     "end_time": "2021-12-06T12:30:57.606579",
     "exception": false,
     "start_time": "2021-12-06T12:30:57.514033",
     "status": "completed"
    },
    "tags": []
   },
   "source": [
    "### One-hot encoder"
   ]
  },
  {
   "cell_type": "markdown",
   "id": "8a0b8fe0",
   "metadata": {
    "papermill": {
     "duration": 0.092656,
     "end_time": "2021-12-06T12:30:57.792225",
     "exception": false,
     "start_time": "2021-12-06T12:30:57.699569",
     "status": "completed"
    },
    "tags": []
   },
   "source": [
    "**One hot encoder by pandas**"
   ]
  },
  {
   "cell_type": "code",
   "execution_count": 51,
   "id": "cb3879cc",
   "metadata": {
    "execution": {
     "iopub.execute_input": "2021-12-06T12:30:57.983855Z",
     "iopub.status.busy": "2021-12-06T12:30:57.983175Z",
     "iopub.status.idle": "2021-12-06T12:30:57.986603Z",
     "shell.execute_reply": "2021-12-06T12:30:57.986069Z",
     "shell.execute_reply.started": "2021-12-06T12:28:55.486261Z"
    },
    "papermill": {
     "duration": 0.100974,
     "end_time": "2021-12-06T12:30:57.986778",
     "exception": false,
     "start_time": "2021-12-06T12:30:57.885804",
     "status": "completed"
    },
    "tags": []
   },
   "outputs": [],
   "source": [
    "# X_train = pd.get_dummies(X_train)\n",
    "# X_test = pd.get_dummies(X_test)"
   ]
  },
  {
   "cell_type": "markdown",
   "id": "f18fb04c",
   "metadata": {
    "papermill": {
     "duration": 0.093061,
     "end_time": "2021-12-06T12:30:58.174948",
     "exception": false,
     "start_time": "2021-12-06T12:30:58.081887",
     "status": "completed"
    },
    "tags": []
   },
   "source": [
    "# XGB baseline"
   ]
  },
  {
   "cell_type": "code",
   "execution_count": 52,
   "id": "7bb67ed9",
   "metadata": {
    "execution": {
     "iopub.execute_input": "2021-12-06T12:30:58.366720Z",
     "iopub.status.busy": "2021-12-06T12:30:58.365923Z",
     "iopub.status.idle": "2021-12-06T12:30:58.406201Z",
     "shell.execute_reply": "2021-12-06T12:30:58.405476Z",
     "shell.execute_reply.started": "2021-12-06T12:28:55.493197Z"
    },
    "papermill": {
     "duration": 0.138639,
     "end_time": "2021-12-06T12:30:58.406381",
     "exception": false,
     "start_time": "2021-12-06T12:30:58.267742",
     "status": "completed"
    },
    "tags": []
   },
   "outputs": [],
   "source": [
    "from sklearn.metrics import f1_score\n",
    "def compute_f1(predicted, label, threshold=0.5):\n",
    "    label = label.get_label()\n",
    "    y_bin = (predicted >= threshold).astype(int)\n",
    "    return \"f1\", f1_score(label, y_bin)"
   ]
  },
  {
   "cell_type": "code",
   "execution_count": 53,
   "id": "53107979",
   "metadata": {
    "execution": {
     "iopub.execute_input": "2021-12-06T12:30:58.599053Z",
     "iopub.status.busy": "2021-12-06T12:30:58.598238Z",
     "iopub.status.idle": "2021-12-06T12:30:58.696445Z",
     "shell.execute_reply": "2021-12-06T12:30:58.695812Z",
     "shell.execute_reply.started": "2021-12-06T12:28:55.550358Z"
    },
    "papermill": {
     "duration": 0.196648,
     "end_time": "2021-12-06T12:30:58.696614",
     "exception": false,
     "start_time": "2021-12-06T12:30:58.499966",
     "status": "completed"
    },
    "tags": []
   },
   "outputs": [],
   "source": [
    "from xgboost import XGBClassifier\n",
    "xgb_params = {\n",
    "    'objective': 'binary:logistic',\n",
    "    'n_estimators' : 1000,\n",
    "    'eval_metric' : 'error',\n",
    "    'learning_rate' : 0.05,\n",
    "    'random_state' : SEED,\n",
    "    'subsample': 0.8,\n",
    "    'colsample_bytree':0.8,\n",
    "    #'disable_default_eval_metric' : 1,\n",
    "}"
   ]
  },
  {
   "cell_type": "code",
   "execution_count": 54,
   "id": "5290a58b",
   "metadata": {
    "execution": {
     "iopub.execute_input": "2021-12-06T12:30:58.887889Z",
     "iopub.status.busy": "2021-12-06T12:30:58.886913Z",
     "iopub.status.idle": "2021-12-06T12:32:03.246245Z",
     "shell.execute_reply": "2021-12-06T12:32:03.246804Z",
     "shell.execute_reply.started": "2021-12-06T12:28:55.652344Z"
    },
    "papermill": {
     "duration": 64.45604,
     "end_time": "2021-12-06T12:32:03.247027",
     "exception": false,
     "start_time": "2021-12-06T12:30:58.790987",
     "status": "completed"
    },
    "tags": []
   },
   "outputs": [
    {
     "name": "stdout",
     "output_type": "stream",
     "text": [
      "Fold 1 rows of train = 22395 rows of holdout = 2489\n",
      "[0]\tvalidation_0-error:0.15548\n",
      "[100]\tvalidation_0-error:0.13419\n",
      "[200]\tvalidation_0-error:0.13057\n",
      "[300]\tvalidation_0-error:0.13017\n",
      "[386]\tvalidation_0-error:0.13057\n",
      "\n",
      "Fold 2 rows of train = 22395 rows of holdout = 2489\n",
      "[0]\tvalidation_0-error:0.15227\n",
      "[100]\tvalidation_0-error:0.13057\n",
      "[200]\tvalidation_0-error:0.12495\n",
      "[300]\tvalidation_0-error:0.12133\n",
      "[391]\tvalidation_0-error:0.12535\n",
      "\n",
      "Fold 3 rows of train = 22395 rows of holdout = 2489\n",
      "[0]\tvalidation_0-error:0.15749\n",
      "[100]\tvalidation_0-error:0.12575\n",
      "[200]\tvalidation_0-error:0.11812\n",
      "[300]\tvalidation_0-error:0.12013\n",
      "[301]\tvalidation_0-error:0.11973\n",
      "\n",
      "Fold 4 rows of train = 22395 rows of holdout = 2489\n",
      "[0]\tvalidation_0-error:0.15629\n",
      "[100]\tvalidation_0-error:0.14062\n",
      "[200]\tvalidation_0-error:0.13620\n",
      "[300]\tvalidation_0-error:0.13258\n",
      "[375]\tvalidation_0-error:0.13459\n",
      "\n",
      "Fold 5 rows of train = 22396 rows of holdout = 2488\n",
      "[0]\tvalidation_0-error:0.15193\n",
      "[100]\tvalidation_0-error:0.12781\n",
      "[200]\tvalidation_0-error:0.12179\n",
      "[289]\tvalidation_0-error:0.12299\n",
      "\n",
      "Fold 6 rows of train = 22396 rows of holdout = 2488\n",
      "[0]\tvalidation_0-error:0.14992\n",
      "[100]\tvalidation_0-error:0.12902\n",
      "[200]\tvalidation_0-error:0.12379\n",
      "[300]\tvalidation_0-error:0.12219\n",
      "[400]\tvalidation_0-error:0.12219\n",
      "[486]\tvalidation_0-error:0.12540\n",
      "\n",
      "Fold 7 rows of train = 22396 rows of holdout = 2488\n",
      "[0]\tvalidation_0-error:0.15675\n",
      "[100]\tvalidation_0-error:0.12942\n",
      "[200]\tvalidation_0-error:0.12741\n",
      "[300]\tvalidation_0-error:0.12781\n",
      "[360]\tvalidation_0-error:0.12821\n",
      "\n",
      "Fold 8 rows of train = 22396 rows of holdout = 2488\n",
      "[0]\tvalidation_0-error:0.15474\n",
      "[100]\tvalidation_0-error:0.13465\n",
      "[200]\tvalidation_0-error:0.12942\n",
      "[300]\tvalidation_0-error:0.12540\n",
      "[377]\tvalidation_0-error:0.12621\n",
      "\n",
      "Fold 9 rows of train = 22396 rows of holdout = 2488\n",
      "[0]\tvalidation_0-error:0.15997\n",
      "[100]\tvalidation_0-error:0.13746\n",
      "[200]\tvalidation_0-error:0.13424\n",
      "[300]\tvalidation_0-error:0.13063\n",
      "[380]\tvalidation_0-error:0.13143\n",
      "\n",
      "Fold 10 rows of train = 22396 rows of holdout = 2488\n",
      "[0]\tvalidation_0-error:0.15515\n",
      "[100]\tvalidation_0-error:0.13344\n",
      "[200]\tvalidation_0-error:0.12259\n",
      "[291]\tvalidation_0-error:0.12500\n",
      "\n",
      "########################################\n",
      "XGB OOF CV= 0.7121352908381341\n"
     ]
    }
   ],
   "source": [
    "from sklearn.model_selection import StratifiedKFold\n",
    "skf = StratifiedKFold(n_splits = 10, shuffle=True, random_state=SEED)\n",
    "oof = np.zeros(len(X_train))\n",
    "preds = np.zeros((len(X_test),2))\n",
    "feature_imp_list = np.zeros(len(X_train.columns))\n",
    "for idx, (train_idx, valid_idx) in enumerate(skf.split(X_train, y_train), start=1):\n",
    "    xgb_classifier = XGBClassifier(**xgb_params, use_label_encoder=False)\n",
    "    print('Fold', idx, 'rows of train =',len(train_idx),'rows of holdout =',len(valid_idx))\n",
    "    h = xgb_classifier.fit(X_train.iloc[train_idx], y_train.iloc[train_idx],\n",
    "                           eval_set=[(X_train.iloc[valid_idx], y_train.iloc[valid_idx])],\n",
    "                           verbose=100,early_stopping_rounds=100)\n",
    "    oof[valid_idx] = xgb_classifier.predict(X_train.iloc[valid_idx])\n",
    "    #Bootstrap aggregation \n",
    "    preds += xgb_classifier.predict_proba(X_test)/skf.n_splits\n",
    "    #Feature importants\n",
    "    feature_imp_list += xgb_classifier.feature_importances_/skf.n_splits\n",
    "    del h, xgb_classifier\n",
    "    x=gc.collect()\n",
    "    print()\n",
    "print('#'*40)\n",
    "print('XGB OOF CV=',f1_score(y_train, oof))"
   ]
  },
  {
   "cell_type": "markdown",
   "id": "4dbf276c",
   "metadata": {
    "papermill": {
     "duration": 0.108013,
     "end_time": "2021-12-06T12:32:03.464117",
     "exception": false,
     "start_time": "2021-12-06T12:32:03.356104",
     "status": "completed"
    },
    "tags": []
   },
   "source": [
    "## Feature important"
   ]
  },
  {
   "cell_type": "code",
   "execution_count": 55,
   "id": "edd4f2d7",
   "metadata": {
    "execution": {
     "iopub.execute_input": "2021-12-06T12:32:03.696429Z",
     "iopub.status.busy": "2021-12-06T12:32:03.691168Z",
     "iopub.status.idle": "2021-12-06T12:32:04.088334Z",
     "shell.execute_reply": "2021-12-06T12:32:04.088832Z",
     "shell.execute_reply.started": "2021-12-06T12:29:56.162155Z"
    },
    "papermill": {
     "duration": 0.514702,
     "end_time": "2021-12-06T12:32:04.089052",
     "exception": false,
     "start_time": "2021-12-06T12:32:03.574350",
     "status": "completed"
    },
    "tags": []
   },
   "outputs": [
    {
     "data": {
      "image/png": "[encoded data removed]",
      "text/plain": [
       "<Figure size 1440x720 with 1 Axes>"
      ]
     },
     "metadata": {
      "needs_background": "light"
     },
     "output_type": "display_data"
    }
   ],
   "source": [
    "feature_imp = pd.DataFrame(sorted(zip(feature_imp_list,X_train.columns)), columns=['Value','Feature'])\n",
    "plt.figure(figsize=(20, 10))\n",
    "sns.barplot(x=\"Value\", y=\"Feature\", data=feature_imp.sort_values(by=\"Value\", ascending=False).iloc[:])\n",
    "plt.title('XGB Most Important')\n",
    "plt.tight_layout()\n",
    "plt.show()"
   ]
  },
  {
   "cell_type": "markdown",
   "id": "2cd5f92c",
   "metadata": {
    "papermill": {
     "duration": 0.109568,
     "end_time": "2021-12-06T12:32:04.308595",
     "exception": false,
     "start_time": "2021-12-06T12:32:04.199027",
     "status": "completed"
    },
    "tags": []
   },
   "source": [
    "# Submission"
   ]
  },
  {
   "cell_type": "code",
   "execution_count": 56,
   "id": "d7a8173a",
   "metadata": {
    "execution": {
     "iopub.execute_input": "2021-12-06T12:32:04.532361Z",
     "iopub.status.busy": "2021-12-06T12:32:04.531689Z",
     "iopub.status.idle": "2021-12-06T12:32:04.541780Z",
     "shell.execute_reply": "2021-12-06T12:32:04.542330Z",
     "shell.execute_reply.started": "2021-12-06T12:29:56.574925Z"
    },
    "papermill": {
     "duration": 0.124254,
     "end_time": "2021-12-06T12:32:04.542544",
     "exception": false,
     "start_time": "2021-12-06T12:32:04.418290",
     "status": "completed"
    },
    "tags": []
   },
   "outputs": [
    {
     "data": {
      "text/html": [
       "<div>\n",
       "<style scoped>\n",
       "    .dataframe tbody tr th:only-of-type {\n",
       "        vertical-align: middle;\n",
       "    }\n",
       "\n",
       "    .dataframe tbody tr th {\n",
       "        vertical-align: top;\n",
       "    }\n",
       "\n",
       "    .dataframe thead th {\n",
       "        text-align: right;\n",
       "    }\n",
       "</style>\n",
       "<table border=\"1\" class=\"dataframe\">\n",
       "  <thead>\n",
       "    <tr style=\"text-align: right;\">\n",
       "      <th></th>\n",
       "      <th>ID</th>\n",
       "      <th>target_income</th>\n",
       "    </tr>\n",
       "  </thead>\n",
       "  <tbody>\n",
       "    <tr>\n",
       "      <th>0</th>\n",
       "      <td>25000</td>\n",
       "      <td>1</td>\n",
       "    </tr>\n",
       "    <tr>\n",
       "      <th>1</th>\n",
       "      <td>25001</td>\n",
       "      <td>0</td>\n",
       "    </tr>\n",
       "    <tr>\n",
       "      <th>2</th>\n",
       "      <td>25002</td>\n",
       "      <td>0</td>\n",
       "    </tr>\n",
       "    <tr>\n",
       "      <th>3</th>\n",
       "      <td>25003</td>\n",
       "      <td>0</td>\n",
       "    </tr>\n",
       "    <tr>\n",
       "      <th>4</th>\n",
       "      <td>25004</td>\n",
       "      <td>1</td>\n",
       "    </tr>\n",
       "    <tr>\n",
       "      <th>...</th>\n",
       "      <td>...</td>\n",
       "      <td>...</td>\n",
       "    </tr>\n",
       "    <tr>\n",
       "      <th>7556</th>\n",
       "      <td>32556</td>\n",
       "      <td>1</td>\n",
       "    </tr>\n",
       "    <tr>\n",
       "      <th>7557</th>\n",
       "      <td>32557</td>\n",
       "      <td>1</td>\n",
       "    </tr>\n",
       "    <tr>\n",
       "      <th>7558</th>\n",
       "      <td>32558</td>\n",
       "      <td>0</td>\n",
       "    </tr>\n",
       "    <tr>\n",
       "      <th>7559</th>\n",
       "      <td>32559</td>\n",
       "      <td>1</td>\n",
       "    </tr>\n",
       "    <tr>\n",
       "      <th>7560</th>\n",
       "      <td>32560</td>\n",
       "      <td>0</td>\n",
       "    </tr>\n",
       "  </tbody>\n",
       "</table>\n",
       "<p>7561 rows × 2 columns</p>\n",
       "</div>"
      ],
      "text/plain": [
       "         ID  target_income\n",
       "0     25000              1\n",
       "1     25001              0\n",
       "2     25002              0\n",
       "3     25003              0\n",
       "4     25004              1\n",
       "...     ...            ...\n",
       "7556  32556              1\n",
       "7557  32557              1\n",
       "7558  32558              0\n",
       "7559  32559              1\n",
       "7560  32560              0\n",
       "\n",
       "[7561 rows x 2 columns]"
      ]
     },
     "execution_count": 56,
     "metadata": {},
     "output_type": "execute_result"
    }
   ],
   "source": [
    "#sample_sub['target_income'] = (preds >= 0.5).astype(int)\n",
    "sample_sub['target_income'] = np.argmax(preds, axis=1)\n",
    "sample_sub"
   ]
  },
  {
   "cell_type": "code",
   "execution_count": 57,
   "id": "2e056236",
   "metadata": {
    "execution": {
     "iopub.execute_input": "2021-12-06T12:32:04.770787Z",
     "iopub.status.busy": "2021-12-06T12:32:04.770118Z",
     "iopub.status.idle": "2021-12-06T12:32:04.771426Z",
     "shell.execute_reply": "2021-12-06T12:32:04.772010Z",
     "shell.execute_reply.started": "2021-12-06T12:29:56.595071Z"
    },
    "papermill": {
     "duration": 0.119183,
     "end_time": "2021-12-06T12:32:04.772182",
     "exception": false,
     "start_time": "2021-12-06T12:32:04.652999",
     "status": "completed"
    },
    "tags": []
   },
   "outputs": [],
   "source": [
    "test_leak = (test_df['capital_gain'] == 99999).to_numpy()"
   ]
  },
  {
   "cell_type": "code",
   "execution_count": 58,
   "id": "4e4a5da9",
   "metadata": {
    "execution": {
     "iopub.execute_input": "2021-12-06T12:32:04.996862Z",
     "iopub.status.busy": "2021-12-06T12:32:04.996255Z",
     "iopub.status.idle": "2021-12-06T12:32:05.002833Z",
     "shell.execute_reply": "2021-12-06T12:32:05.002290Z",
     "shell.execute_reply.started": "2021-12-06T12:29:56.602517Z"
    },
    "papermill": {
     "duration": 0.120026,
     "end_time": "2021-12-06T12:32:05.002992",
     "exception": false,
     "start_time": "2021-12-06T12:32:04.882966",
     "status": "completed"
    },
    "tags": []
   },
   "outputs": [],
   "source": [
    "sample_sub['target_income'].loc[test_leak] = 1"
   ]
  },
  {
   "cell_type": "code",
   "execution_count": 59,
   "id": "5eac18f4",
   "metadata": {
    "execution": {
     "iopub.execute_input": "2021-12-06T12:32:05.229294Z",
     "iopub.status.busy": "2021-12-06T12:32:05.228349Z",
     "iopub.status.idle": "2021-12-06T12:32:05.248049Z",
     "shell.execute_reply": "2021-12-06T12:32:05.248583Z",
     "shell.execute_reply.started": "2021-12-06T12:29:56.616647Z"
    },
    "papermill": {
     "duration": 0.134564,
     "end_time": "2021-12-06T12:32:05.248759",
     "exception": false,
     "start_time": "2021-12-06T12:32:05.114195",
     "status": "completed"
    },
    "tags": []
   },
   "outputs": [],
   "source": [
    "sample_sub\n",
    "sample_sub.to_csv('submission.csv', index=False)"
   ]
  },
  {
   "cell_type": "code",
   "execution_count": 60,
   "id": "90e14825",
   "metadata": {
    "execution": {
     "iopub.execute_input": "2021-12-06T12:32:05.472984Z",
     "iopub.status.busy": "2021-12-06T12:32:05.472315Z",
     "iopub.status.idle": "2021-12-06T12:32:05.477711Z",
     "shell.execute_reply": "2021-12-06T12:32:05.478274Z",
     "shell.execute_reply.started": "2021-12-06T12:29:56.647109Z"
    },
    "papermill": {
     "duration": 0.120477,
     "end_time": "2021-12-06T12:32:05.478452",
     "exception": false,
     "start_time": "2021-12-06T12:32:05.357975",
     "status": "completed"
    },
    "tags": []
   },
   "outputs": [
    {
     "data": {
      "text/plain": [
       "1559"
      ]
     },
     "execution_count": 60,
     "metadata": {},
     "output_type": "execute_result"
    }
   ],
   "source": [
    "sample_sub['target_income'].sum()"
   ]
  }
 ],
 "metadata": {
  "kernelspec": {
   "display_name": "Python 3",
   "language": "python",
   "name": "python3"
  },
  "language_info": {
   "codemirror_mode": {
    "name": "ipython",
    "version": 3
   },
   "file_extension": ".py",
   "mimetype": "text/x-python",
   "name": "python",
   "nbconvert_exporter": "python",
   "pygments_lexer": "ipython3",
   "version": "3.7.10"
  },
  "papermill": {
   "default_parameters": {},
   "duration": 103.588162,
   "end_time": "2021-12-06T12:32:06.600763",
   "environment_variables": {},
   "exception": null,
   "input_path": "__notebook__.ipynb",
   "output_path": "__notebook__.ipynb",
   "parameters": {},
   "start_time": "2021-12-06T12:30:23.012601",
   "version": "2.3.3"
  }
 },
 "nbformat": 4,
 "nbformat_minor": 5
}
